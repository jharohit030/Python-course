{
 "cells": [
  {
   "cell_type": "code",
   "execution_count": 1,
   "id": "d18c409a-1d27-4c20-a68a-0e4ef0238bea",
   "metadata": {},
   "outputs": [],
   "source": [
    "#Multithreading\n",
    "\n",
    "import threading"
   ]
  },
  {
   "cell_type": "code",
   "execution_count": null,
   "id": "2e445a25-7c89-4ad7-8fcb-0a19dc84fc86",
   "metadata": {},
   "outputs": [],
   "source": []
  },
  {
   "cell_type": "code",
   "execution_count": 3,
   "id": "b7a45c37-2e34-46d1-a72c-0ffba3cec24c",
   "metadata": {},
   "outputs": [],
   "source": [
    "def test(id):\n",
    "    print(\"program starts %d \" , id)"
   ]
  },
  {
   "cell_type": "code",
   "execution_count": 4,
   "id": "9aa9018a-73da-4615-9439-b75bed7494bc",
   "metadata": {},
   "outputs": [
    {
     "name": "stdout",
     "output_type": "stream",
     "text": [
      "program starts %d  45\n"
     ]
    }
   ],
   "source": [
    "test(45)"
   ]
  },
  {
   "cell_type": "code",
   "execution_count": 6,
   "id": "fc0c115f-f541-4dc1-a8c7-8ddd9acaa1cc",
   "metadata": {},
   "outputs": [],
   "source": [
    "thread = [threading.Thread(target=test, args = (i,))for i in range(10)]"
   ]
  },
  {
   "cell_type": "code",
   "execution_count": 7,
   "id": "ff5c48e4-58cc-4716-bfcc-94198af0d9c0",
   "metadata": {},
   "outputs": [
    {
     "name": "stdout",
     "output_type": "stream",
     "text": [
      "program starts %d  0\n",
      "program starts %d  1\n",
      "program starts %d  2\n",
      "program starts %d  3\n",
      "program starts %d  4\n",
      "program starts %d  5\n",
      "program starts %d  6\n",
      "program starts %d  7\n",
      "program starts %d  8\n",
      "program starts %d  9\n"
     ]
    }
   ],
   "source": [
    "for t in thread:\n",
    "    t.start()"
   ]
  },
  {
   "cell_type": "code",
   "execution_count": 8,
   "id": "6e3c61c5-5d36-4dfd-a523-bb1a2306a7f1",
   "metadata": {},
   "outputs": [
    {
     "data": {
      "text/plain": [
       "[0, 1, 2, 3, 4, 5, 6, 7, 8, 9]"
      ]
     },
     "execution_count": 8,
     "metadata": {},
     "output_type": "execute_result"
    }
   ],
   "source": [
    "list(range(10))"
   ]
  },
  {
   "cell_type": "code",
   "execution_count": 9,
   "id": "44da03a9-bd0f-44cd-9fce-a4241a6adddd",
   "metadata": {},
   "outputs": [
    {
     "data": {
      "text/plain": [
       "[<Thread(Thread-5 (test), stopped 139958245369408)>,\n",
       " <Thread(Thread-6 (test), stopped 139958245369408)>,\n",
       " <Thread(Thread-7 (test), stopped 139958245369408)>,\n",
       " <Thread(Thread-8 (test), stopped 139958245369408)>,\n",
       " <Thread(Thread-9 (test), stopped 139958245369408)>,\n",
       " <Thread(Thread-10 (test), stopped 139958245369408)>,\n",
       " <Thread(Thread-11 (test), stopped 139958245369408)>,\n",
       " <Thread(Thread-12 (test), stopped 139958245369408)>,\n",
       " <Thread(Thread-13 (test), stopped 139958245369408)>,\n",
       " <Thread(Thread-14 (test), stopped 139958245369408)>]"
      ]
     },
     "execution_count": 9,
     "metadata": {},
     "output_type": "execute_result"
    }
   ],
   "source": [
    "thread"
   ]
  },
  {
   "cell_type": "code",
   "execution_count": 10,
   "id": "18811a49-2e82-487a-bcfb-97e0cfeb698e",
   "metadata": {},
   "outputs": [
    {
     "data": {
      "text/plain": [
       "139958491607808"
      ]
     },
     "execution_count": 10,
     "metadata": {},
     "output_type": "execute_result"
    }
   ],
   "source": [
    "id(thread)"
   ]
  },
  {
   "cell_type": "code",
   "execution_count": 11,
   "id": "97483e7c-258c-40ae-9320-aa3e87433bf5",
   "metadata": {},
   "outputs": [],
   "source": [
    "import threading\n",
    "import urllib.request\n",
    "\n",
    "def file_download(url, filename):\n",
    "    urllib.request.urlretrieve(url, filename)"
   ]
  },
  {
   "cell_type": "code",
   "execution_count": 12,
   "id": "ffbf991f-f137-4cf1-a629-bebb02d2bf1c",
   "metadata": {},
   "outputs": [],
   "source": [
    "file_download('https://github.com/jharohit030/BDS_git',\"test.txt\")"
   ]
  },
  {
   "cell_type": "code",
   "execution_count": 13,
   "id": "2db80619-b021-4750-afda-efa041863bd0",
   "metadata": {},
   "outputs": [],
   "source": [
    "url_list = ['https://github.com/jharohit030/BDS_git','https://github.com/jharohit030/BDS_git','https://github.com/jharohit030/BDS_git']"
   ]
  },
  {
   "cell_type": "code",
   "execution_count": 14,
   "id": "d88bb11d-9881-400d-9812-03e48af354d7",
   "metadata": {},
   "outputs": [
    {
     "data": {
      "text/plain": [
       "['https://github.com/jharohit030/BDS_git',\n",
       " 'https://github.com/jharohit030/BDS_git',\n",
       " 'https://github.com/jharohit030/BDS_git']"
      ]
     },
     "execution_count": 14,
     "metadata": {},
     "output_type": "execute_result"
    }
   ],
   "source": [
    "url_list"
   ]
  },
  {
   "cell_type": "code",
   "execution_count": 15,
   "id": "538add7d-ce64-49fc-8a45-3a10c1859505",
   "metadata": {},
   "outputs": [],
   "source": [
    "file_name_list = ['data1.txt', 'data2.txt', 'data3.txt']"
   ]
  },
  {
   "cell_type": "code",
   "execution_count": 22,
   "id": "7e1b7953-be44-4639-9266-768a355fee9e",
   "metadata": {},
   "outputs": [],
   "source": [
    "thread = [threading.Thread(target = file_download, args = (url_list[i], file_name_list[i])) for i in range(len(url_list))]"
   ]
  },
  {
   "cell_type": "code",
   "execution_count": 23,
   "id": "b6a389a1-8920-4529-b8e6-adbfb5610f58",
   "metadata": {
    "tags": []
   },
   "outputs": [
    {
     "data": {
      "text/plain": [
       "[<Thread(Thread-15 (file_download), initial)>,\n",
       " <Thread(Thread-16 (file_download), initial)>,\n",
       " <Thread(Thread-17 (file_download), initial)>]"
      ]
     },
     "execution_count": 23,
     "metadata": {},
     "output_type": "execute_result"
    }
   ],
   "source": [
    "thread"
   ]
  },
  {
   "cell_type": "code",
   "execution_count": 24,
   "id": "1943d5d7-e1bc-4768-9bb7-fe9bf30097dc",
   "metadata": {},
   "outputs": [],
   "source": [
    "for t in thread:\n",
    "    t.start()"
   ]
  },
  {
   "cell_type": "code",
   "execution_count": 25,
   "id": "8275ae9f-5d07-40de-a8a1-15866abe6e42",
   "metadata": {},
   "outputs": [
    {
     "data": {
      "text/plain": [
       "[<Thread(Thread-15 (file_download), stopped 139958245369408)>,\n",
       " <Thread(Thread-16 (file_download), stopped 139957683353152)>,\n",
       " <Thread(Thread-17 (file_download), stopped 139957674960448)>]"
      ]
     },
     "execution_count": 25,
     "metadata": {},
     "output_type": "execute_result"
    }
   ],
   "source": [
    "thread"
   ]
  },
  {
   "cell_type": "code",
   "execution_count": 26,
   "id": "0380b1ea-34de-48aa-a4cd-5a0b40c1d338",
   "metadata": {},
   "outputs": [],
   "source": [
    "import time"
   ]
  },
  {
   "cell_type": "code",
   "execution_count": 45,
   "id": "8200314c-a225-4b6b-8f49-9b7a1dde0aed",
   "metadata": {},
   "outputs": [],
   "source": [
    "def test1(id):\n",
    "    for i in range(10):\n",
    "        print(\"test1 %d printing %d %s \" %(id, i, time.ctime()))\n",
    "        time.sleep(1)"
   ]
  },
  {
   "cell_type": "code",
   "execution_count": 46,
   "id": "97267d7b-200d-486c-abab-53b8a9664138",
   "metadata": {},
   "outputs": [
    {
     "name": "stdout",
     "output_type": "stream",
     "text": [
      "test1 1 printing 0 Wed Mar 29 17:28:11 2023 \n",
      "test1 1 printing 1 Wed Mar 29 17:28:12 2023 \n",
      "test1 1 printing 2 Wed Mar 29 17:28:13 2023 \n",
      "test1 1 printing 3 Wed Mar 29 17:28:14 2023 \n",
      "test1 1 printing 4 Wed Mar 29 17:28:15 2023 \n",
      "test1 1 printing 5 Wed Mar 29 17:28:16 2023 \n",
      "test1 1 printing 6 Wed Mar 29 17:28:17 2023 \n",
      "test1 1 printing 7 Wed Mar 29 17:28:18 2023 \n",
      "test1 1 printing 8 Wed Mar 29 17:28:19 2023 \n",
      "test1 1 printing 9 Wed Mar 29 17:28:20 2023 \n"
     ]
    }
   ],
   "source": [
    "test1(1)"
   ]
  },
  {
   "cell_type": "code",
   "execution_count": 43,
   "id": "abf96a94-9a54-4c4e-bba2-80ddc5b8b1da",
   "metadata": {},
   "outputs": [],
   "source": [
    "thread1 = [threading.Thread(target = test1, args = (i,)) for i in range(3)]"
   ]
  },
  {
   "cell_type": "code",
   "execution_count": 44,
   "id": "8f7b1c8c-ff09-48a3-bb83-441f8cc01eb1",
   "metadata": {},
   "outputs": [
    {
     "name": "stdout",
     "output_type": "stream",
     "text": [
      "test1 0 printing 0 \n",
      "test1 1 printing 0 \n",
      "test1 2 printing 0 \n",
      "test1 0 printing 1 test1 1 printing 1 \n",
      "\n",
      "test1 2 printing 1 \n",
      "test1 1 printing 2 test1 0 printing 2 \n",
      "\n",
      "test1 2 printing 2 \n",
      "test1 0 printing 3 test1 2 printing 3 \n",
      "test1 1 printing 3 \n",
      "\n",
      "test1 2 printing 4 \n",
      "test1 0 printing 4 \n",
      "test1 1 printing 4 \n",
      "test1 2 printing 5 \n",
      "test1 0 printing 5 \n",
      "test1 1 printing 5 \n",
      "test1 2 printing 6 test1 1 printing 6 \n",
      "\n",
      "test1 0 printing 6 \n",
      "test1 1 printing 7 test1 2 printing 7 \n",
      "\n",
      "test1 0 printing 7 \n",
      "test1 2 printing 8 test1 1 printing 8 \n",
      "\n",
      "test1 0 printing 8 \n",
      "test1 1 printing 9 test1 2 printing 9 \n",
      "\n",
      "test1 0 printing 9 \n"
     ]
    }
   ],
   "source": [
    "for i in thread1:\n",
    "    i.start()"
   ]
  },
  {
   "cell_type": "code",
   "execution_count": 48,
   "id": "65c8bce5-d1b5-4a5a-bfcf-8b208da33cf7",
   "metadata": {},
   "outputs": [],
   "source": [
    "shared_var = 0\n",
    "lock_var = threading.Lock()"
   ]
  },
  {
   "cell_type": "code",
   "execution_count": 57,
   "id": "6e12870d-85aa-4b5a-a260-e3708f7c5a32",
   "metadata": {},
   "outputs": [],
   "source": [
    "def test2(id):\n",
    "    global shared_var\n",
    "    with lock_var:\n",
    "        shared_var = shared_var + 1\n",
    "        print(\"test2 id is %d has increased the shared variable by %d \" %(id, shared_var))\n",
    "        time.sleep(1)"
   ]
  },
  {
   "cell_type": "code",
   "execution_count": 58,
   "id": "59263e6c-8e85-4db4-bc74-68236daeae6a",
   "metadata": {},
   "outputs": [],
   "source": [
    "thread2 = [threading.Thread(target = test2, args = (i,) ) for i in range(3)]"
   ]
  },
  {
   "cell_type": "code",
   "execution_count": 59,
   "id": "7a04b447-1686-44ea-a19f-2876356dc254",
   "metadata": {},
   "outputs": [
    {
     "data": {
      "text/plain": [
       "[<Thread(Thread-36 (test2), initial)>,\n",
       " <Thread(Thread-37 (test2), initial)>,\n",
       " <Thread(Thread-38 (test2), initial)>]"
      ]
     },
     "execution_count": 59,
     "metadata": {},
     "output_type": "execute_result"
    }
   ],
   "source": [
    "thread2"
   ]
  },
  {
   "cell_type": "code",
   "execution_count": 60,
   "id": "e8a7965b-d5b6-45c1-b19d-71cf0c72d192",
   "metadata": {},
   "outputs": [
    {
     "name": "stdout",
     "output_type": "stream",
     "text": [
      "test2 id is 0 has increased the shared variable by 8 \n",
      "test2 id is 1 has increased the shared variable by 9 \n",
      "test2 id is 2 has increased the shared variable by 10 \n"
     ]
    }
   ],
   "source": [
    "for t in thread2:\n",
    "    t.start()"
   ]
  },
  {
   "cell_type": "code",
   "execution_count": 61,
   "id": "c0c4a411-0efc-4ad2-bdd6-c91b6129e977",
   "metadata": {},
   "outputs": [
    {
     "name": "stdout",
     "output_type": "stream",
     "text": [
      "test2 id is 0 has increased the shared variable by 11 \n"
     ]
    }
   ],
   "source": [
    "test2(0)"
   ]
  },
  {
   "cell_type": "code",
   "execution_count": null,
   "id": "185c8c2e-4a97-403f-9319-a17aeb46f112",
   "metadata": {},
   "outputs": [],
   "source": [
    "#MultiProcessing"
   ]
  },
  {
   "cell_type": "code",
   "execution_count": 3,
   "id": "33130afb-c8c7-403c-87b3-2e942c96eeb6",
   "metadata": {},
   "outputs": [],
   "source": [
    "import multiprocessing  #multiprocessing with processes\n",
    "\n",
    "def test():\n",
    "    print(\"this is my multiprocessing program\")\n",
    "\n",
    "    if __name__ == '__main__':\n",
    "        m = multiprocessing.Process(target = test)\n",
    "        print(\"this is my main program\")\n",
    "        m.start()\n",
    "        m.join()"
   ]
  },
  {
   "cell_type": "code",
   "execution_count": 4,
   "id": "78c37e52-6fd4-450a-abd0-51f457392ae2",
   "metadata": {},
   "outputs": [
    {
     "name": "stdout",
     "output_type": "stream",
     "text": [
      "this is my multiprocessing program\n",
      "this is my main program\n",
      "this is my multiprocessing program\n",
      "this is my main program\n",
      "this is my multiprocessing program\n",
      "this is my main program\n",
      "this is my multiprocessing program\n",
      "this is my main program\n",
      "this is my multiprocessing program\n",
      "this is my main program\n",
      "this is my multiprocessing program\n",
      "this is my main program\n",
      "this is my multiprocessing program\n",
      "this is my main program\n",
      "this is my multiprocessing program\n",
      "this is my main program\n",
      "this is my multiprocessing program\n",
      "this is my main program\n",
      "this is my multiprocessing program\n",
      "this is my main program\n",
      "this is my multiprocessing program\n",
      "this is my main program\n",
      "this is my multiprocessing program\n",
      "this is my main program\n",
      "this is my multiprocessing program\n",
      "this is my main program\n",
      "this is my multiprocessing program\n",
      "this is my main program\n",
      "this is my multiprocessing program\n",
      "this is my main program\n",
      "this is my multiprocessing program\n",
      "this is my main program\n",
      "this is my multiprocessing program\n",
      "this is my main program\n",
      "this is my multiprocessing program\n",
      "this is my main program\n",
      "this is my multiprocessing program\n",
      "this is my main program\n",
      "this is my multiprocessing program\n",
      "this is my main program\n",
      "this is my multiprocessing program\n",
      "this is my main program\n",
      "this is my multiprocessing program\n",
      "this is my main program\n",
      "this is my multiprocessing program\n",
      "this is my main program\n",
      "this is my multiprocessing program\n",
      "this is my main program\n",
      "this is my multiprocessing program\n",
      "this is my main program\n",
      "this is my multiprocessing program\n",
      "this is my main program\n",
      "this is my multiprocessing program\n",
      "this is my main program\n",
      "this is my multiprocessing program\n",
      "this is my main program\n",
      "this is my multiprocessing program\n",
      "this is my main program\n",
      "this is my multiprocessing program\n",
      "this is my main program\n",
      "this is my multiprocessing program\n",
      "this is my main program\n",
      "this is my multiprocessing program\n",
      "this is my main program\n",
      "this is my multiprocessing program\n",
      "this is my main program\n",
      "this is my multiprocessing program\n",
      "this is my main program\n",
      "this is my multiprocessing program\n",
      "this is my main program\n",
      "this is my multiprocessing program\n",
      "this is my main program\n",
      "this is my multiprocessing program\n",
      "this is my main program\n",
      "this is my multiprocessing program\n",
      "this is my main program\n",
      "this is my multiprocessing program\n",
      "this is my main program\n",
      "this is my multiprocessing program\n",
      "this is my main program\n",
      "this is my multiprocessing program\n",
      "this is my main program\n",
      "this is my multiprocessing program\n",
      "this is my main program\n",
      "this is my multiprocessing program\n",
      "this is my main program\n",
      "this is my multiprocessing program\n",
      "this is my main program\n",
      "this is my multiprocessing program\n",
      "this is my main program\n",
      "this is my multiprocessing program\n",
      "this is my main program\n",
      "this is my multiprocessing program\n",
      "this is my main program\n",
      "this is my multiprocessing program\n",
      "this is my main program\n",
      "this is my multiprocessing program\n",
      "this is my main program\n",
      "this is my multiprocessing program\n",
      "this is my main program\n",
      "this is my multiprocessing program\n",
      "this is my main program\n",
      "this is my multiprocessing program\n",
      "this is my main program\n",
      "this is my multiprocessing program\n",
      "this is my main program\n",
      "this is my multiprocessing program\n",
      "this is my main program\n",
      "this is my multiprocessing program\n",
      "this is my main program\n",
      "this is my multiprocessing program\n",
      "this is my main program\n",
      "this is my multiprocessing program\n",
      "this is my main program\n",
      "this is my multiprocessing program\n",
      "this is my main program\n",
      "this is my multiprocessing program\n",
      "this is my main program\n",
      "this is my multiprocessing program\n",
      "this is my main program\n",
      "this is my multiprocessing program\n",
      "this is my main program\n",
      "this is my multiprocessing program\n",
      "this is my main program\n",
      "this is my multiprocessing program\n",
      "this is my main program\n",
      "this is my multiprocessing program\n",
      "this is my main program\n",
      "this is my multiprocessing program\n",
      "this is my main program\n",
      "this is my multiprocessing program\n",
      "this is my main program\n",
      "this is my multiprocessing program\n",
      "this is my main program\n",
      "this is my multiprocessing program\n",
      "this is my main program\n",
      "this is my multiprocessing program\n",
      "this is my main program\n",
      "this is my multiprocessing program\n",
      "this is my main program\n",
      "this is my multiprocessing program\n",
      "this is my main program\n",
      "this is my multiprocessing program\n",
      "this is my main program\n",
      "this is my multiprocessing program\n",
      "this is my main program\n",
      "this is my multiprocessing program\n",
      "this is my main program\n",
      "this is my multiprocessing program\n",
      "this is my main program\n",
      "this is my multiprocessing program\n",
      "this is my main program\n",
      "this is my multiprocessing program\n",
      "this is my main program\n",
      "this is my multiprocessing program\n",
      "this is my main program\n",
      "this is my multiprocessing program\n",
      "this is my main program\n",
      "this is my multiprocessing program\n",
      "this is my main program\n",
      "this is my multiprocessing program\n",
      "this is my main program\n",
      "this is my multiprocessing program\n",
      "this is my main program\n",
      "this is my multiprocessing program\n",
      "this is my main program\n",
      "this is my multiprocessing program\n",
      "this is my main program\n",
      "this is my multiprocessing program\n",
      "this is my main program\n",
      "this is my multiprocessing program\n",
      "this is my main program\n",
      "this is my multiprocessing program\n",
      "this is my main program\n",
      "this is my multiprocessing program\n",
      "this is my main program\n",
      "this is my multiprocessing program\n",
      "this is my main program\n",
      "this is my multiprocessing program\n",
      "this is my main program\n",
      "this is my multiprocessing program\n",
      "this is my main program\n",
      "this is my multiprocessing program\n",
      "this is my main program\n",
      "this is my multiprocessing program\n",
      "this is my main program\n",
      "this is my multiprocessing program\n",
      "this is my main program\n",
      "this is my multiprocessing program\n",
      "this is my main program\n",
      "this is my multiprocessing program\n",
      "this is my main program\n",
      "this is my multiprocessing program\n",
      "this is my main program\n",
      "this is my multiprocessing program\n",
      "this is my main program\n",
      "this is my multiprocessing program\n",
      "this is my main program\n",
      "this is my multiprocessing program\n",
      "this is my main program\n",
      "this is my multiprocessing program\n",
      "this is my main program\n",
      "this is my multiprocessing program\n",
      "this is my main program\n",
      "this is my multiprocessing program\n",
      "this is my main program\n",
      "this is my multiprocessing program\n",
      "this is my main program\n",
      "this is my multiprocessing program\n",
      "this is my main program\n",
      "this is my multiprocessing program\n",
      "this is my main program\n",
      "this is my multiprocessing program\n",
      "this is my main program\n",
      "this is my multiprocessing program\n",
      "this is my main program\n",
      "this is my multiprocessing program\n",
      "this is my main program\n",
      "this is my multiprocessing program\n",
      "this is my main program\n",
      "this is my multiprocessing program\n",
      "this is my main program\n",
      "this is my multiprocessing program\n",
      "this is my main program\n",
      "this is my multiprocessing program\n",
      "this is my main program\n",
      "this is my multiprocessing program\n",
      "this is my main program\n",
      "this is my multiprocessing program\n",
      "this is my main program\n",
      "this is my multiprocessing program\n",
      "this is my main program\n",
      "this is my multiprocessing program\n",
      "this is my main program\n",
      "this is my multiprocessing program\n",
      "this is my main program\n",
      "this is my multiprocessing program\n",
      "this is my main program\n",
      "this is my multiprocessing program\n",
      "this is my main program\n",
      "this is my multiprocessing program\n",
      "this is my main program\n",
      "this is my multiprocessing program\n",
      "this is my main program\n",
      "this is my multiprocessing program\n",
      "this is my main program\n",
      "this is my multiprocessing program\n",
      "this is my main program\n",
      "this is my multiprocessing program\n",
      "this is my main program\n",
      "this is my multiprocessing program\n",
      "this is my main program\n",
      "this is my multiprocessing program\n",
      "this is my main program\n",
      "this is my multiprocessing program\n",
      "this is my main program\n",
      "this is my multiprocessing program\n",
      "this is my main program\n",
      "this is my multiprocessing program\n",
      "this is my main program\n",
      "this is my multiprocessing program\n",
      "this is my main program\n",
      "this is my multiprocessing program\n",
      "this is my main program\n",
      "this is my multiprocessing program\n",
      "this is my main program\n",
      "this is my multiprocessing program\n",
      "this is my main program\n",
      "this is my multiprocessing program\n",
      "this is my main program\n",
      "this is my multiprocessing program\n",
      "this is my main program\n",
      "this is my multiprocessing program\n",
      "this is my main program\n",
      "this is my multiprocessing program\n",
      "this is my main program\n",
      "this is my multiprocessing program\n",
      "this is my main program\n",
      "this is my multiprocessing program\n",
      "this is my main program\n",
      "this is my multiprocessing program\n",
      "this is my main program\n",
      "this is my multiprocessing program\n",
      "this is my main program\n",
      "this is my multiprocessing program\n",
      "this is my main program\n",
      "this is my multiprocessing program\n",
      "this is my main program\n",
      "this is my multiprocessing program\n",
      "this is my main program\n",
      "this is my multiprocessing program\n",
      "this is my main program\n",
      "this is my multiprocessing program\n",
      "this is my main program\n",
      "this is my multiprocessing program\n",
      "this is my main program\n",
      "this is my multiprocessing program\n",
      "this is my main program\n",
      "this is my multiprocessing program\n",
      "this is my main program\n",
      "this is my multiprocessing program\n",
      "this is my main program\n",
      "this is my multiprocessing program\n",
      "this is my main program\n",
      "this is my multiprocessing program\n",
      "this is my main program\n",
      "this is my multiprocessing program\n",
      "this is my main program\n",
      "this is my multiprocessing program\n",
      "this is my main program\n",
      "this is my multiprocessing program\n",
      "this is my main program\n",
      "this is my multiprocessing program\n",
      "this is my main program\n",
      "this is my multiprocessing program\n",
      "this is my main program\n",
      "this is my multiprocessing program\n",
      "this is my main program\n",
      "this is my multiprocessing program\n",
      "this is my main program\n",
      "this is my multiprocessing program\n",
      "this is my main program\n",
      "this is my multiprocessing program\n",
      "this is my main program\n",
      "this is my multiprocessing program\n",
      "this is my main program\n",
      "this is my multiprocessing program\n",
      "this is my main program\n",
      "this is my multiprocessing program\n",
      "this is my main program\n",
      "this is my multiprocessing program\n",
      "this is my main program\n",
      "this is my multiprocessing program\n",
      "this is my main program\n",
      "this is my multiprocessing program\n",
      "this is my main program\n",
      "this is my multiprocessing program\n",
      "this is my main program\n",
      "this is my multiprocessing program\n",
      "this is my main program\n",
      "this is my multiprocessing program\n",
      "this is my main program\n",
      "this is my multiprocessing program\n",
      "this is my main program\n",
      "this is my multiprocessing program\n",
      "this is my main program\n",
      "this is my multiprocessing program\n",
      "this is my main program\n",
      "this is my multiprocessing program\n",
      "this is my main program\n",
      "this is my multiprocessing program\n",
      "this is my main program\n",
      "this is my multiprocessing program\n",
      "this is my main program\n",
      "this is my multiprocessing program\n",
      "this is my main program\n",
      "this is my multiprocessing program\n",
      "this is my main program\n",
      "this is my multiprocessing program\n",
      "this is my main program\n",
      "this is my multiprocessing program\n",
      "this is my main program\n",
      "this is my multiprocessing program\n",
      "this is my main program\n",
      "this is my multiprocessing program\n",
      "this is my main program\n",
      "this is my multiprocessing program\n",
      "this is my main program\n",
      "this is my multiprocessing program\n",
      "this is my main program\n",
      "this is my multiprocessing program\n",
      "this is my main program\n",
      "this is my multiprocessing program\n",
      "this is my main program\n",
      "this is my multiprocessing program\n",
      "this is my main program\n",
      "this is my multiprocessing program\n",
      "this is my main program\n",
      "this is my multiprocessing program\n",
      "this is my main program\n",
      "this is my multiprocessing program\n",
      "this is my main program\n",
      "this is my multiprocessing program\n",
      "this is my main program\n",
      "this is my multiprocessing program\n",
      "this is my main program\n",
      "this is my multiprocessing program\n",
      "this is my main program\n",
      "this is my multiprocessing program\n",
      "this is my main program\n",
      "this is my multiprocessing program\n",
      "this is my main program\n",
      "this is my multiprocessing program\n",
      "this is my main program\n",
      "this is my multiprocessing program\n",
      "this is my main program\n",
      "this is my multiprocessing program\n",
      "this is my main program\n",
      "this is my multiprocessing program\n",
      "this is my main program\n",
      "this is my multiprocessing program\n",
      "this is my main program\n",
      "this is my multiprocessing program\n",
      "this is my main program\n",
      "this is my multiprocessing program\n",
      "this is my main program\n",
      "this is my multiprocessing program\n",
      "this is my main program\n",
      "this is my multiprocessing program\n",
      "this is my main program\n",
      "this is my multiprocessing program\n",
      "this is my main program\n",
      "this is my multiprocessing program\n",
      "this is my main program\n",
      "this is my multiprocessing program\n",
      "this is my main program\n",
      "this is my multiprocessing program\n",
      "this is my main program\n",
      "this is my multiprocessing program\n",
      "this is my main program\n",
      "this is my multiprocessing program\n",
      "this is my main program\n",
      "this is my multiprocessing program\n",
      "this is my main program\n",
      "this is my multiprocessing program\n",
      "this is my main program\n",
      "this is my multiprocessing program\n",
      "this is my main program\n",
      "this is my multiprocessing program\n",
      "this is my main program\n",
      "this is my multiprocessing program\n",
      "this is my main program\n",
      "this is my multiprocessing program\n",
      "this is my main program\n",
      "this is my multiprocessing program\n",
      "this is my main program\n",
      "this is my multiprocessing program\n",
      "this is my main program\n",
      "this is my multiprocessing program\n",
      "this is my main program\n",
      "this is my multiprocessing program\n",
      "this is my main program\n",
      "this is my multiprocessing program\n",
      "this is my main program\n",
      "this is my multiprocessing program\n",
      "this is my main program\n",
      "this is my multiprocessing program\n",
      "this is my main program\n",
      "this is my multiprocessing program\n",
      "this is my main program\n",
      "this is my multiprocessing program\n",
      "this is my main program\n",
      "this is my multiprocessing program\n",
      "this is my main program\n",
      "this is my multiprocessing program\n",
      "this is my main program\n",
      "this is my multiprocessing program\n",
      "this is my main program\n",
      "this is my multiprocessing program\n",
      "this is my main program\n",
      "this is my multiprocessing program\n",
      "this is my main program\n",
      "this is my multiprocessing program\n",
      "this is my main program\n",
      "this is my multiprocessing program\n",
      "this is my main program\n",
      "this is my multiprocessing program\n",
      "this is my main program\n",
      "this is my multiprocessing program\n",
      "this is my main program\n",
      "this is my multiprocessing program\n",
      "this is my main program\n",
      "this is my multiprocessing program\n",
      "this is my main program\n",
      "this is my multiprocessing program\n",
      "this is my main program\n",
      "this is my multiprocessing program\n",
      "this is my main program\n",
      "this is my multiprocessing program\n",
      "this is my main program\n",
      "this is my multiprocessing program\n",
      "this is my main program\n",
      "this is my multiprocessing program\n",
      "this is my main program\n",
      "this is my multiprocessing program\n",
      "this is my main program\n",
      "this is my multiprocessing program\n",
      "this is my main program\n",
      "this is my multiprocessing program\n",
      "this is my main program\n",
      "this is my multiprocessing program\n",
      "this is my main program\n",
      "this is my multiprocessing program\n",
      "this is my main program\n",
      "this is my multiprocessing program\n",
      "this is my main program\n",
      "this is my multiprocessing program\n",
      "this is my main program\n",
      "this is my multiprocessing program\n",
      "this is my main program\n",
      "this is my multiprocessing program\n",
      "this is my main program\n",
      "this is my multiprocessing program\n",
      "this is my main program\n",
      "this is my multiprocessing program\n",
      "this is my main program\n",
      "this is my multiprocessing program\n",
      "this is my main program\n",
      "this is my multiprocessing program\n",
      "this is my main program\n",
      "this is my multiprocessing program\n",
      "this is my main program\n",
      "this is my multiprocessing program\n",
      "this is my main program\n",
      "this is my multiprocessing program\n",
      "this is my main program\n",
      "this is my multiprocessing program\n",
      "this is my main program\n",
      "this is my multiprocessing program\n",
      "this is my main program\n",
      "this is my multiprocessing program\n",
      "this is my main program\n",
      "this is my multiprocessing program\n",
      "this is my main program\n",
      "this is my multiprocessing program\n",
      "this is my main program\n",
      "this is my multiprocessing program\n",
      "this is my main program\n",
      "this is my multiprocessing program\n",
      "this is my main program\n",
      "this is my multiprocessing program\n",
      "this is my main program\n",
      "this is my multiprocessing program\n",
      "this is my main program\n",
      "this is my multiprocessing program\n",
      "this is my main program\n",
      "this is my multiprocessing program\n",
      "this is my main program\n",
      "this is my multiprocessing program\n",
      "this is my main program\n",
      "this is my multiprocessing program\n",
      "this is my main program\n",
      "this is my multiprocessing program\n",
      "this is my main program\n",
      "this is my multiprocessing program\n",
      "this is my main program\n",
      "this is my multiprocessing program\n",
      "this is my main program\n",
      "this is my multiprocessing program\n",
      "this is my main program\n",
      "this is my multiprocessing program\n",
      "this is my main program\n",
      "this is my multiprocessing program\n",
      "this is my main program\n",
      "this is my multiprocessing program\n",
      "this is my main program\n",
      "this is my multiprocessing program\n",
      "this is my main program\n",
      "this is my multiprocessing program\n",
      "this is my main program\n",
      "this is my multiprocessing program\n",
      "this is my main program\n",
      "this is my multiprocessing program\n",
      "this is my main program\n",
      "this is my multiprocessing program\n",
      "this is my main program\n",
      "this is my multiprocessing program\n",
      "this is my main program\n",
      "this is my multiprocessing program\n",
      "this is my main program\n",
      "this is my multiprocessing program\n",
      "this is my main program\n",
      "this is my multiprocessing program\n",
      "this is my main program\n",
      "this is my multiprocessing program\n",
      "this is my main program\n",
      "this is my multiprocessing program\n",
      "this is my main program\n",
      "this is my multiprocessing program\n",
      "this is my main program\n",
      "this is my multiprocessing program\n",
      "this is my main program\n",
      "this is my multiprocessing program\n",
      "this is my main program\n",
      "this is my multiprocessing program\n",
      "this is my main program\n",
      "this is my multiprocessing program\n",
      "this is my main program\n",
      "this is my multiprocessing program\n",
      "this is my main program\n",
      "this is my multiprocessing program\n",
      "this is my main program\n",
      "this is my multiprocessing program\n",
      "this is my main program\n",
      "this is my multiprocessing program\n",
      "this is my main program\n",
      "this is my multiprocessing program\n",
      "this is my main program\n",
      "this is my multiprocessing program\n",
      "this is my main program\n",
      "this is my multiprocessing program\n",
      "this is my main program\n",
      "this is my multiprocessing program\n",
      "this is my main program\n",
      "this is my multiprocessing program\n",
      "this is my main program\n",
      "this is my multiprocessing program\n",
      "this is my main program\n",
      "this is my multiprocessing program\n",
      "this is my main program\n",
      "this is my multiprocessing program\n",
      "this is my main program\n",
      "this is my multiprocessing program\n",
      "this is my main program\n",
      "this is my multiprocessing program\n",
      "this is my main program\n",
      "this is my multiprocessing program\n",
      "this is my main program\n",
      "this is my multiprocessing program\n",
      "this is my main program\n",
      "this is my multiprocessing program\n",
      "this is my main program\n",
      "this is my multiprocessing program\n",
      "this is my main program\n",
      "this is my multiprocessing program\n",
      "this is my main program\n",
      "this is my multiprocessing program\n",
      "this is my main program\n",
      "this is my multiprocessing program\n",
      "this is my main program\n",
      "this is my multiprocessing program\n",
      "this is my main program\n",
      "this is my multiprocessing program\n",
      "this is my main program\n",
      "this is my multiprocessing program\n",
      "this is my main program\n",
      "this is my multiprocessing program\n",
      "this is my main program\n",
      "this is my multiprocessing program\n",
      "this is my main program\n",
      "this is my multiprocessing program\n",
      "this is my main program\n",
      "this is my multiprocessing program\n",
      "this is my main program\n",
      "this is my multiprocessing program\n",
      "this is my main program\n",
      "this is my multiprocessing program\n",
      "this is my main program\n",
      "this is my multiprocessing program\n",
      "this is my main program\n",
      "this is my multiprocessing program\n",
      "this is my main program\n",
      "this is my multiprocessing program\n",
      "this is my main program\n",
      "this is my multiprocessing program\n",
      "this is my main program\n",
      "this is my multiprocessing program\n",
      "this is my main program\n"
     ]
    }
   ],
   "source": [
    "test()"
   ]
  },
  {
   "cell_type": "code",
   "execution_count": 7,
   "id": "9d5623f0-98bd-47d9-81ae-d67124239267",
   "metadata": {},
   "outputs": [
    {
     "name": "stdout",
     "output_type": "stream",
     "text": [
      "[1, 4, 9, 16, 25, 36, 49, 64]\n"
     ]
    }
   ],
   "source": [
    "def square(n): #multiprocessing with Pool\n",
    "    return n**2\n",
    "\n",
    "if __name__ == '__main__':\n",
    "    with multiprocessing.Pool(processes = 4) as pool :\n",
    "        out = pool.map(square, [1,2,3,4,5,6,7,8])\n",
    "        print(out)\n"
   ]
  },
  {
   "cell_type": "code",
   "execution_count": null,
   "id": "f0ae6937-7645-4734-9698-05a03a92e1c3",
   "metadata": {},
   "outputs": [
    {
     "name": "stdout",
     "output_type": "stream",
     "text": [
      "0\n",
      "1\n",
      "2\n",
      "3\n",
      "4\n",
      "5\n",
      "6\n",
      "7\n",
      "8\n",
      "9\n",
      "rohit\n"
     ]
    }
   ],
   "source": [
    "\n",
    "\n",
    "def producer(q):  #multiprocessing with queue\n",
    "    for i in range(10):\n",
    "        q.put(i)\n",
    "\n",
    "def consume(q):\n",
    "    while True:\n",
    "        item = q.get()\n",
    "        if item is None:\n",
    "            break\n",
    "        print(item)\n",
    "        \n",
    "if __name__ == '__main__' :\n",
    "    queue = multiprocessing.Queue()\n",
    "    m1 = multiprocessing.Process(target=producer, args = (queue,))\n",
    "    m2 = multiprocessing.Process(target = consume, args = (queue,))\n",
    "    m1.start()\n",
    "    m2.start()\n",
    "    queue.put(\"rohit\")\n",
    "    m1.join()\n",
    "    m2.join()\n",
    "        "
   ]
  },
  {
   "cell_type": "code",
   "execution_count": null,
   "id": "ae310316-3032-4e9d-a4fe-8df4b9897dc4",
   "metadata": {},
   "outputs": [
    {
     "name": "stdout",
     "output_type": "stream",
     "text": [
      "sudh\n",
      "kumar\n",
      "rohit\n",
      "mohit\n"
     ]
    }
   ],
   "source": [
    "import multiprocessing\n",
    "\n",
    "def producer(q):  #multiprocessing with queue\n",
    "    for i in ['sudh','kumar','rohit']:\n",
    "        q.put(i)\n",
    "\n",
    "def consume(q):\n",
    "    while True:\n",
    "        item = q.get()\n",
    "        if item is None:\n",
    "            break\n",
    "        print(item)\n",
    "        \n",
    "if __name__ == '__main__' :\n",
    "    queue = multiprocessing.Queue()\n",
    "    m1 = multiprocessing.Process(target=producer, args = (queue,))\n",
    "    m2 = multiprocessing.Process(target = consume, args = (queue,))\n",
    "    m1.start()\n",
    "    m2.start()\n",
    "    queue.put(\"mohit\")\n",
    "    m1.join()\n",
    "    m2.join()\n",
    "        "
   ]
  },
  {
   "cell_type": "code",
   "execution_count": 1,
   "id": "aa0630c0-15bf-4a26-b02f-749b5ac101a5",
   "metadata": {},
   "outputs": [
    {
     "name": "stdout",
     "output_type": "stream",
     "text": [
      "[4, 9, 16, 25, 36, 49, 64]\n"
     ]
    }
   ],
   "source": [
    "import multiprocessing\n",
    "def square(index, value):  #multiprocessing using array\n",
    "    value[index]  = value[index]**2\n",
    "    \n",
    "if __name__ == '__main__' :\n",
    "    arr = multiprocessing.Array('i',[2,3,4,5,6,7,8])\n",
    "    process = []\n",
    "    for i in range(7):\n",
    "        m = multiprocessing.Process(target = square, args = (i, arr))\n",
    "        process.append(m)\n",
    "        m.start()\n",
    "    for j in process:\n",
    "        j.join()\n",
    "    print(list(arr))"
   ]
  },
  {
   "cell_type": "code",
   "execution_count": null,
   "id": "6935a46e-8ebb-41f0-8dd8-12d457c25916",
   "metadata": {},
   "outputs": [
    {
     "name": "stdout",
     "output_type": "stream",
     "text": [
      "my name is rohit\n",
      "this is my msg to student\n",
      "I am taking class for multiprocessing\n"
     ]
    }
   ],
   "source": [
    "import multiprocessing\n",
    "def sender(conn, msg):  #multiprocessing using pipe\n",
    "    for i in msg:\n",
    "        conn.send(i)\n",
    "    conn.close()\n",
    "    \n",
    "def receive(conn) :\n",
    "    while True:\n",
    "        try:\n",
    "            msg = conn.recv()\n",
    "        except  Exception as e:\n",
    "            print(e)\n",
    "            break\n",
    "        print(msg)\n",
    "        \n",
    "if __name__ == '__main__' :\n",
    "    msg = ['my name is rohit', 'this is my msg to student', 'I am taking class for multiprocessing']\n",
    "    parent_conn, child_conn = multiprocessing.Pipe()\n",
    "    m1 = multiprocessing.Process(target = sender, args = (child_conn, msg))\n",
    "    m2 = multiprocessing.Process(target = receive, args = (parent_conn,))\n",
    "    m1.start()\n",
    "    m2.start()\n",
    "    m1.join()\n",
    "\n",
    "    child_conn.close()\n",
    "    m2.join()\n",
    "    parent_conn.close()\n",
    "    "
   ]
  },
  {
   "cell_type": "code",
   "execution_count": null,
   "id": "b392e328-c126-4f86-97e3-a6b9af3cc225",
   "metadata": {},
   "outputs": [],
   "source": []
  }
 ],
 "metadata": {
  "kernelspec": {
   "display_name": "Python 3 (ipykernel)",
   "language": "python",
   "name": "python3"
  },
  "language_info": {
   "codemirror_mode": {
    "name": "ipython",
    "version": 3
   },
   "file_extension": ".py",
   "mimetype": "text/x-python",
   "name": "python",
   "nbconvert_exporter": "python",
   "pygments_lexer": "ipython3",
   "version": "3.10.8"
  }
 },
 "nbformat": 4,
 "nbformat_minor": 5
}
