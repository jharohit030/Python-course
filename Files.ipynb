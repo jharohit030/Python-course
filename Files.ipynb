{
 "cells": [
  {
   "cell_type": "code",
   "execution_count": 1,
   "id": "62a244f8-8996-4c46-a821-e98a2c50deaa",
   "metadata": {},
   "outputs": [],
   "source": [
    "f = open(\"test.txt\", 'w')"
   ]
  },
  {
   "cell_type": "code",
   "execution_count": 2,
   "id": "c0d0f4ea-6a82-4793-9483-2f4c4d023f48",
   "metadata": {},
   "outputs": [
    {
     "data": {
      "text/plain": [
       "'/home/jovyan/work'"
      ]
     },
     "execution_count": 2,
     "metadata": {},
     "output_type": "execute_result"
    }
   ],
   "source": [
    "pwd"
   ]
  },
  {
   "cell_type": "code",
   "execution_count": 3,
   "id": "2be77c55-b0e1-41db-b046-04c8d59791c2",
   "metadata": {},
   "outputs": [
    {
     "name": "stdout",
     "output_type": "stream",
     "text": [
      "'7th feb assignment.ipynb'   Files.ipynb                  README.md\n",
      "'8th feb assignment.ipynb'  'Oops part 2.ipynb'           sample-code.ipynb\n",
      "'9th feb assignment.ipynb'  'python Assignment 4.ipynb'   test.txt\n",
      "'Assignment 3.ipynb'        'python Assignment 5.ipynb'   Untitled.ipynb\n",
      "'Class and Objects.ipynb'   'python assignment 6.ipynb'\n"
     ]
    }
   ],
   "source": [
    "ls"
   ]
  },
  {
   "cell_type": "code",
   "execution_count": 4,
   "id": "f90337c7-d04c-4796-b1af-8a60fe1b9e7a",
   "metadata": {},
   "outputs": [
    {
     "data": {
      "text/plain": [
       "30"
      ]
     },
     "execution_count": 4,
     "metadata": {},
     "output_type": "execute_result"
    }
   ],
   "source": [
    "f.write(\"this is my first file to write\")"
   ]
  },
  {
   "cell_type": "code",
   "execution_count": 5,
   "id": "2d55b28d-15b3-4fde-904a-30972792e7c0",
   "metadata": {},
   "outputs": [],
   "source": [
    "f.close()"
   ]
  },
  {
   "cell_type": "code",
   "execution_count": 15,
   "id": "3f3bd7f5-ac97-41ba-95b9-982fa10c9210",
   "metadata": {},
   "outputs": [],
   "source": [
    "data = open('test.txt', 'r')"
   ]
  },
  {
   "cell_type": "code",
   "execution_count": 16,
   "id": "ffa13fac-bb3a-4193-a346-d4509fa4745c",
   "metadata": {},
   "outputs": [
    {
     "data": {
      "text/plain": [
       "'this is my filethis is good practice for appending the data in same file'"
      ]
     },
     "execution_count": 16,
     "metadata": {},
     "output_type": "execute_result"
    }
   ],
   "source": [
    "data.read()"
   ]
  },
  {
   "cell_type": "code",
   "execution_count": 17,
   "id": "da608f5a-3b0b-48d1-9fa4-e4743f285b72",
   "metadata": {},
   "outputs": [
    {
     "data": {
      "text/plain": [
       "''"
      ]
     },
     "execution_count": 17,
     "metadata": {},
     "output_type": "execute_result"
    }
   ],
   "source": [
    "data.readline()"
   ]
  },
  {
   "cell_type": "code",
   "execution_count": 18,
   "id": "8b2b9010-4874-420f-9106-5e6b7c2b03c5",
   "metadata": {},
   "outputs": [
    {
     "data": {
      "text/plain": [
       "0"
      ]
     },
     "execution_count": 18,
     "metadata": {},
     "output_type": "execute_result"
    }
   ],
   "source": [
    "data.seek(0)  # put pointer to 0th position by using seek()"
   ]
  },
  {
   "cell_type": "code",
   "execution_count": 19,
   "id": "6d26cfa2-a6a6-400e-8688-80dbfdf79d1e",
   "metadata": {},
   "outputs": [
    {
     "data": {
      "text/plain": [
       "'this is my filethis is good practice for appending the data in same file'"
      ]
     },
     "execution_count": 19,
     "metadata": {},
     "output_type": "execute_result"
    }
   ],
   "source": [
    "data.readline()"
   ]
  },
  {
   "cell_type": "code",
   "execution_count": 20,
   "id": "1e8fa681-6777-4903-966e-0b95bce49814",
   "metadata": {},
   "outputs": [
    {
     "data": {
      "text/plain": [
       "''"
      ]
     },
     "execution_count": 20,
     "metadata": {},
     "output_type": "execute_result"
    }
   ],
   "source": [
    "data.readline()"
   ]
  },
  {
   "cell_type": "code",
   "execution_count": 21,
   "id": "7d9385d7-8737-4b80-873b-c8e6b47dd3a0",
   "metadata": {},
   "outputs": [
    {
     "data": {
      "text/plain": [
       "10"
      ]
     },
     "execution_count": 21,
     "metadata": {},
     "output_type": "execute_result"
    }
   ],
   "source": [
    "data.seek(10)"
   ]
  },
  {
   "cell_type": "code",
   "execution_count": 22,
   "id": "0d15fb78-fbf6-457f-ab78-43ad6dd7342d",
   "metadata": {},
   "outputs": [
    {
     "data": {
      "text/plain": [
       "' filethis is good practice for appending the data in same file'"
      ]
     },
     "execution_count": 22,
     "metadata": {},
     "output_type": "execute_result"
    }
   ],
   "source": [
    "data.readline()"
   ]
  },
  {
   "cell_type": "code",
   "execution_count": 23,
   "id": "3fcceaeb-e724-4150-a094-10ec317487c8",
   "metadata": {},
   "outputs": [],
   "source": [
    "data1 = open('test.txt', 'r')"
   ]
  },
  {
   "cell_type": "code",
   "execution_count": 24,
   "id": "98f0ca5a-4f5e-48e7-8f64-e97ee828259d",
   "metadata": {},
   "outputs": [
    {
     "name": "stdout",
     "output_type": "stream",
     "text": [
      "this is my filethis is good practice for appending the data in same file\n"
     ]
    }
   ],
   "source": [
    "for i in data1:\n",
    "    print(i)"
   ]
  },
  {
   "cell_type": "code",
   "execution_count": 25,
   "id": "6c8dd08c-cafd-435a-af3d-9be7760f9deb",
   "metadata": {},
   "outputs": [],
   "source": [
    "import os"
   ]
  },
  {
   "cell_type": "code",
   "execution_count": 26,
   "id": "d1ef4526-55c4-42aa-8a59-34a1d93b3717",
   "metadata": {},
   "outputs": [
    {
     "data": {
      "text/plain": [
       "72"
      ]
     },
     "execution_count": 26,
     "metadata": {},
     "output_type": "execute_result"
    }
   ],
   "source": [
    "os.path.getsize('test.txt')"
   ]
  },
  {
   "cell_type": "code",
   "execution_count": 27,
   "id": "d60e8255-a21b-425c-a8e1-d0fcdc63d394",
   "metadata": {},
   "outputs": [],
   "source": [
    "os.remove('test.txt')"
   ]
  },
  {
   "cell_type": "code",
   "execution_count": 28,
   "id": "ddc85a42-9aa9-4b70-83d6-91fe99d588af",
   "metadata": {},
   "outputs": [],
   "source": [
    "f = open('test1.txt', 'w')"
   ]
  },
  {
   "cell_type": "code",
   "execution_count": 29,
   "id": "e0f3e7a2-4d20-4c1e-9edf-b8573cb69d3a",
   "metadata": {},
   "outputs": [
    {
     "data": {
      "text/plain": [
       "25"
      ]
     },
     "execution_count": 29,
     "metadata": {},
     "output_type": "execute_result"
    }
   ],
   "source": [
    "f.write(\"This is my test1.txt file\")"
   ]
  },
  {
   "cell_type": "code",
   "execution_count": 30,
   "id": "eec1d608-4ab3-4da4-98ef-5caf247183b5",
   "metadata": {},
   "outputs": [],
   "source": [
    "f.close()"
   ]
  },
  {
   "cell_type": "code",
   "execution_count": 31,
   "id": "4a2a0007-0d46-4339-abb2-08f258f78150",
   "metadata": {},
   "outputs": [],
   "source": [
    "os.rename('test1.txt', 'new.txt')"
   ]
  },
  {
   "cell_type": "code",
   "execution_count": 32,
   "id": "00682232-566e-4ddb-9872-3c75550ea3e0",
   "metadata": {},
   "outputs": [],
   "source": [
    "import shutil"
   ]
  },
  {
   "cell_type": "code",
   "execution_count": 33,
   "id": "c6dfb09f-e440-4e71-9199-3af62ca75208",
   "metadata": {},
   "outputs": [
    {
     "data": {
      "text/plain": [
       "'copy_new.txt'"
      ]
     },
     "execution_count": 33,
     "metadata": {},
     "output_type": "execute_result"
    }
   ],
   "source": [
    "shutil.copy('new.txt', 'copy_new.txt')"
   ]
  },
  {
   "cell_type": "code",
   "execution_count": 35,
   "id": "ef095911-8e94-4d71-8f44-1d0718fd7cc6",
   "metadata": {},
   "outputs": [
    {
     "name": "stdout",
     "output_type": "stream",
     "text": [
      "This is my test1.txt file\n"
     ]
    }
   ],
   "source": [
    "with open('new.txt', 'r') as f:\n",
    "    print( f.read())"
   ]
  },
  {
   "cell_type": "code",
   "execution_count": 36,
   "id": "e5e3007f-45cf-4ece-a8ae-24b5951e1689",
   "metadata": {},
   "outputs": [],
   "source": [
    "data = {\n",
    "    \"name\": \"rohit\",\n",
    "    \"mail\":\"rohit@gmail.com\",\n",
    "    \"phone\": 9319811424,\n",
    "    \"subject\":[\"data science\", \"Big data\", \"data analyst\"]\n",
    "}"
   ]
  },
  {
   "cell_type": "code",
   "execution_count": 37,
   "id": "ee2ec723-3505-48e4-9dae-78543c0b16a5",
   "metadata": {},
   "outputs": [],
   "source": [
    "import json"
   ]
  },
  {
   "cell_type": "code",
   "execution_count": 38,
   "id": "085aab19-264e-4895-8c3c-9e65becab0c8",
   "metadata": {},
   "outputs": [],
   "source": [
    "with open(\"data.json\", 'w') as f:\n",
    "    json.dump(data, f)  # dump used to perform write operation in json file"
   ]
  },
  {
   "cell_type": "code",
   "execution_count": 39,
   "id": "9ab63cb1-208e-4e9d-9a62-b26c339d708f",
   "metadata": {},
   "outputs": [],
   "source": [
    "with open(\"data.json\", 'r') as f:\n",
    "    data1 = json.load(f) # load used to perform read operation in json file"
   ]
  },
  {
   "cell_type": "code",
   "execution_count": 40,
   "id": "a8a12650-0c17-432e-b1a6-083cff98371e",
   "metadata": {},
   "outputs": [
    {
     "data": {
      "text/plain": [
       "{'name': 'rohit',\n",
       " 'mail': 'rohit@gmail.com',\n",
       " 'phone': 9319811424,\n",
       " 'subject': ['data science', 'Big data', 'data analyst']}"
      ]
     },
     "execution_count": 40,
     "metadata": {},
     "output_type": "execute_result"
    }
   ],
   "source": [
    "data1"
   ]
  },
  {
   "cell_type": "code",
   "execution_count": 41,
   "id": "aa5fa3f3-f923-4ffd-84f3-d6a1e73a90aa",
   "metadata": {},
   "outputs": [
    {
     "data": {
      "text/plain": [
       "'Big data'"
      ]
     },
     "execution_count": 41,
     "metadata": {},
     "output_type": "execute_result"
    }
   ],
   "source": [
    "data1['subject'][1]"
   ]
  },
  {
   "cell_type": "code",
   "execution_count": 42,
   "id": "95c3f292-8553-44fb-ae8a-c417da4487d1",
   "metadata": {},
   "outputs": [],
   "source": [
    "import csv   # for csv file "
   ]
  },
  {
   "cell_type": "code",
   "execution_count": 45,
   "id": "54e47e26-5dfe-4ba2-b2af-7f875cba6123",
   "metadata": {},
   "outputs": [],
   "source": [
    "data = [['name', 'email_id', 'phone'],\n",
    "        ['rohit','rohit@gmail.com', 931918123],\n",
    "        ['mohit', 'mohit@gmail.com', 683628724]    \n",
    "]"
   ]
  },
  {
   "cell_type": "code",
   "execution_count": 46,
   "id": "80b2bc7f-0ce6-46b5-87c7-fe0b7c6d200c",
   "metadata": {},
   "outputs": [],
   "source": [
    "with open('data.csv', 'w') as f:\n",
    "    writer = csv.writer(f)\n",
    "    \n",
    "    for i in data:\n",
    "        writer.writerow(i)"
   ]
  },
  {
   "cell_type": "code",
   "execution_count": 50,
   "id": "902683d2-4392-4cc5-bd50-dfc8bad0216b",
   "metadata": {},
   "outputs": [
    {
     "name": "stdout",
     "output_type": "stream",
     "text": [
      "['name', 'email_id', 'phone']\n",
      "['rohit', 'rohit@gmail.com', '931918123']\n",
      "['mohit', 'mohit@gmail.com', '683628724']\n"
     ]
    }
   ],
   "source": [
    "with open('data.csv', 'r') as f:\n",
    "    read_data = csv.reader(f)\n",
    "    \n",
    "    for i in read_data:\n",
    "        print(i)"
   ]
  },
  {
   "cell_type": "code",
   "execution_count": null,
   "id": "fac1752a-ed0b-4cbf-9f39-34d1b2baefc4",
   "metadata": {},
   "outputs": [],
   "source": [
    "with open('test.bin','wb') as f:  # for binary files\n",
    "    f.write(b\")"
   ]
  },
  {
   "cell_type": "code",
   "execution_count": 54,
   "id": "974cf594-7bd8-4fd9-b479-9cdbd5d67f69",
   "metadata": {},
   "outputs": [
    {
     "name": "stdout",
     "output_type": "stream",
     "text": [
      "b'\\x01\\x02\\x03456778'\n"
     ]
    }
   ],
   "source": [
    "with open(\"test4.bin\", \"rb\") as f:\n",
    "    print(f.read())\n",
    "    "
   ]
  },
  {
   "cell_type": "code",
   "execution_count": null,
   "id": "bfdb25f8-edd5-435a-973b-d5b24dd50b98",
   "metadata": {},
   "outputs": [],
   "source": [
    "#Buffer Read and Write"
   ]
  },
  {
   "cell_type": "code",
   "execution_count": 1,
   "id": "ceff2755-9f96-4b8f-8dff-64a2d76fec04",
   "metadata": {},
   "outputs": [],
   "source": [
    "import io"
   ]
  },
  {
   "cell_type": "code",
   "execution_count": 13,
   "id": "50e6c948-29d9-45fa-add4-1615535bb775",
   "metadata": {},
   "outputs": [],
   "source": [
    "with open(\"text1.txt\",\"wb\") as f:\n",
    "    file = io.BufferedWriter(f)\n",
    "    \n",
    "    file.write(b\"this is the first line using buffer\")\n",
    "    file.write(b\"this is my second line\\n\")\n",
    "    file.flush()"
   ]
  },
  {
   "cell_type": "code",
   "execution_count": 8,
   "id": "735fef96-57e6-4b37-86e7-5baa4e1e6077",
   "metadata": {},
   "outputs": [],
   "source": [
    "with open('text1.txt','rb') as f:\n",
    "    \n",
    "    file = io.BufferedReader(f)\n",
    "    data = file.read(10)"
   ]
  },
  {
   "cell_type": "code",
   "execution_count": 9,
   "id": "76b1d7c7-760e-4e05-b8d0-fcbef30337d4",
   "metadata": {},
   "outputs": [
    {
     "data": {
      "text/plain": [
       "b'this is th'"
      ]
     },
     "execution_count": 9,
     "metadata": {},
     "output_type": "execute_result"
    }
   ],
   "source": [
    "data"
   ]
  },
  {
   "cell_type": "code",
   "execution_count": null,
   "id": "0b4cb2fe-6090-4c65-8933-ec4151857589",
   "metadata": {},
   "outputs": [],
   "source": [
    "#Logging & Debugging "
   ]
  },
  {
   "cell_type": "code",
   "execution_count": 10,
   "id": "f321dca1-ec0f-461f-8ce5-58268f83c1e3",
   "metadata": {},
   "outputs": [
    {
     "name": "stdout",
     "output_type": "stream",
     "text": [
      "this is my print\n"
     ]
    }
   ],
   "source": [
    "print('this is my print')"
   ]
  },
  {
   "cell_type": "code",
   "execution_count": 1,
   "id": "bcfc8d00-cc62-4295-b7f2-6d4a65988f68",
   "metadata": {},
   "outputs": [],
   "source": [
    "import logging"
   ]
  },
  {
   "cell_type": "code",
   "execution_count": 2,
   "id": "fb355823-4570-42a7-b990-6f027ffde8e2",
   "metadata": {},
   "outputs": [],
   "source": [
    "logging.basicConfig(filename = 'text.log', level = logging.INFO)"
   ]
  },
  {
   "cell_type": "code",
   "execution_count": 3,
   "id": "8f780952-7f02-4fe7-a712-59bd5572fa3d",
   "metadata": {},
   "outputs": [],
   "source": [
    "logging.info('log this line of execution')"
   ]
  },
  {
   "cell_type": "code",
   "execution_count": 4,
   "id": "3af1a5ea-a2b7-40ab-b1e2-fb2a563b2903",
   "metadata": {},
   "outputs": [],
   "source": [
    "logging.info('this is my print')"
   ]
  },
  {
   "cell_type": "code",
   "execution_count": 5,
   "id": "59da662a-e6f9-4e1e-a996-ac2d8429bee0",
   "metadata": {},
   "outputs": [
    {
     "ename": "SyntaxError",
     "evalue": "invalid syntax (1437853705.py, line 2)",
     "output_type": "error",
     "traceback": [
      "\u001b[0;36m  Cell \u001b[0;32mIn[5], line 2\u001b[0;36m\u001b[0m\n\u001b[0;31m    1. NOTSET\u001b[0m\n\u001b[0m       ^\u001b[0m\n\u001b[0;31mSyntaxError\u001b[0m\u001b[0;31m:\u001b[0m invalid syntax\n"
     ]
    }
   ],
   "source": [
    "level in logging\n",
    "1. NOTSET\n",
    "2. DEBUG\n",
    "3. INFO\n",
    "4. WARNING\n",
    "5. ERROR\n",
    "6. CRITICAL"
   ]
  },
  {
   "cell_type": "code",
   "execution_count": 6,
   "id": "229fa249-4ed7-496d-a863-c16d70a99cde",
   "metadata": {},
   "outputs": [],
   "source": [
    "logging.debug('this is my msg')"
   ]
  },
  {
   "cell_type": "code",
   "execution_count": 7,
   "id": "a89751ff-38a5-4565-b240-e0735b1ecb45",
   "metadata": {},
   "outputs": [],
   "source": [
    "logging.warning('this is my warning')"
   ]
  },
  {
   "cell_type": "code",
   "execution_count": 8,
   "id": "f8f4ff91-ba71-4f79-af1a-5f9886de7371",
   "metadata": {},
   "outputs": [],
   "source": [
    "logging.error('this is my error')"
   ]
  },
  {
   "cell_type": "code",
   "execution_count": 12,
   "id": "96995057-a716-4a94-84b7-dc2e58719f3b",
   "metadata": {},
   "outputs": [],
   "source": [
    "logging.shutdown()"
   ]
  },
  {
   "cell_type": "code",
   "execution_count": 13,
   "id": "79747dac-d703-4b9f-9352-ca79d5d8e024",
   "metadata": {},
   "outputs": [],
   "source": [
    "logging.basicConfig(filename = 'text2.log', level = logging.DEBUG, format = '%(asctime)s %(message)s')"
   ]
  },
  {
   "cell_type": "code",
   "execution_count": 14,
   "id": "c7a9ba1a-c4d9-4ab4-a408-ee094d70e45e",
   "metadata": {},
   "outputs": [],
   "source": [
    "logging.info('this is my info logging')\n",
    "logging.error('this is my error msg')\n",
    "logging.critical('this is my critical')"
   ]
  },
  {
   "cell_type": "code",
   "execution_count": 1,
   "id": "7941a4ed-f546-4794-9909-054cc5cea706",
   "metadata": {},
   "outputs": [
    {
     "ename": "NameError",
     "evalue": "name 'logging' is not defined",
     "output_type": "error",
     "traceback": [
      "\u001b[0;31m---------------------------------------------------------------------------\u001b[0m",
      "\u001b[0;31mNameError\u001b[0m                                 Traceback (most recent call last)",
      "Cell \u001b[0;32mIn[1], line 1\u001b[0m\n\u001b[0;32m----> 1\u001b[0m \u001b[43mlogging\u001b[49m\u001b[38;5;241m.\u001b[39mshutdown()\n",
      "\u001b[0;31mNameError\u001b[0m: name 'logging' is not defined"
     ]
    }
   ],
   "source": [
    "logging.shutdown()"
   ]
  },
  {
   "cell_type": "code",
   "execution_count": 13,
   "id": "4cc50b95-3af7-44f7-bf85-c565498cbefb",
   "metadata": {},
   "outputs": [],
   "source": [
    "import logging"
   ]
  },
  {
   "cell_type": "code",
   "execution_count": 14,
   "id": "7712d175-19c4-4c89-b0a7-5a44e5def607",
   "metadata": {},
   "outputs": [],
   "source": [
    "logging.basicConfig(filename = 'login.log', level = logging.DEBUG, format = '%(asctime)s %(message)s %(name)s %(levelname)s')"
   ]
  },
  {
   "cell_type": "code",
   "execution_count": 15,
   "id": "5b0a3893-6473-4c3a-89fb-5c331150c2ac",
   "metadata": {},
   "outputs": [],
   "source": [
    "logging.info('this is my info logging')\n",
    "logging.error('this is my error msg')\n",
    "logging.critical('this is my critical')"
   ]
  },
  {
   "cell_type": "code",
   "execution_count": 16,
   "id": "8434b8c9-382d-4add-95d0-8ef3c950c508",
   "metadata": {},
   "outputs": [],
   "source": [
    "l = [1,2,3,4,5,[1,2,3,4,5],'rohit','kumar']"
   ]
  },
  {
   "cell_type": "code",
   "execution_count": 20,
   "id": "97e8ee41-7f05-4454-a2cb-9f2c99db66a1",
   "metadata": {},
   "outputs": [],
   "source": [
    "l1_int = []\n",
    "l2_str = []\n",
    "for i in l:\n",
    "    logging.info('we are iterating our list and our local variable is i' +str(l))\n",
    "    if type(i) == list:\n",
    "        logging.info('I am inside if statement and i am trying to check list type')\n",
    "        for j in i:\n",
    "            logging.info('I am inside another for loop for list inside list element')\n",
    "            if type(j) == int:\n",
    "                logging.info('i am inside another if statement')\n",
    "                l1_int.append(j)\n",
    "    elif type(i) == int:\n",
    "        l1_int.append(i)\n",
    "    else:\n",
    "        if type(i) == str:\n",
    "            l2_str.append(i)"
   ]
  },
  {
   "cell_type": "code",
   "execution_count": 18,
   "id": "5bed7e4f-32ac-42b0-a576-78795e604a13",
   "metadata": {},
   "outputs": [
    {
     "data": {
      "text/plain": [
       "[1, 2, 3, 4, 5, 1, 2, 3, 4, 5]"
      ]
     },
     "execution_count": 18,
     "metadata": {},
     "output_type": "execute_result"
    }
   ],
   "source": [
    "l1_int"
   ]
  },
  {
   "cell_type": "code",
   "execution_count": null,
   "id": "ab0114a9-0cbb-45dd-9610-6f280f317152",
   "metadata": {},
   "outputs": [],
   "source": []
  },
  {
   "cell_type": "code",
   "execution_count": 19,
   "id": "c9bdef48-5d94-4ed6-8cf1-83cff7645262",
   "metadata": {},
   "outputs": [
    {
     "data": {
      "text/plain": [
       "['rohit', 'kumar']"
      ]
     },
     "execution_count": 19,
     "metadata": {},
     "output_type": "execute_result"
    }
   ],
   "source": [
    "l2_str"
   ]
  },
  {
   "cell_type": "code",
   "execution_count": null,
   "id": "58469efa-6707-478d-bdd8-8a63f875f22e",
   "metadata": {},
   "outputs": [],
   "source": []
  },
  {
   "cell_type": "code",
   "execution_count": null,
   "id": "eda00177-0498-409f-b706-7017710fa26a",
   "metadata": {},
   "outputs": [],
   "source": []
  }
 ],
 "metadata": {
  "kernelspec": {
   "display_name": "Python 3 (ipykernel)",
   "language": "python",
   "name": "python3"
  },
  "language_info": {
   "codemirror_mode": {
    "name": "ipython",
    "version": 3
   },
   "file_extension": ".py",
   "mimetype": "text/x-python",
   "name": "python",
   "nbconvert_exporter": "python",
   "pygments_lexer": "ipython3",
   "version": "3.10.8"
  }
 },
 "nbformat": 4,
 "nbformat_minor": 5
}
