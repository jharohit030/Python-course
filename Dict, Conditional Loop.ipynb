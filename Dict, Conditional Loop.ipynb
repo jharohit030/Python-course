{
 "cells": [
  {
   "cell_type": "code",
   "execution_count": 1,
   "id": "291df6c2",
   "metadata": {},
   "outputs": [],
   "source": [
    "d= {}"
   ]
  },
  {
   "cell_type": "code",
   "execution_count": 2,
   "id": "802761c2",
   "metadata": {},
   "outputs": [
    {
     "data": {
      "text/plain": [
       "dict"
      ]
     },
     "execution_count": 2,
     "metadata": {},
     "output_type": "execute_result"
    }
   ],
   "source": [
    "type(d)"
   ]
  },
  {
   "cell_type": "code",
   "execution_count": 3,
   "id": "27180331",
   "metadata": {},
   "outputs": [],
   "source": [
    "d ={1,2,3,4}"
   ]
  },
  {
   "cell_type": "code",
   "execution_count": 4,
   "id": "6d9c33f9",
   "metadata": {},
   "outputs": [
    {
     "data": {
      "text/plain": [
       "set"
      ]
     },
     "execution_count": 4,
     "metadata": {},
     "output_type": "execute_result"
    }
   ],
   "source": [
    "type(d)"
   ]
  },
  {
   "cell_type": "code",
   "execution_count": 5,
   "id": "c2f69f5e",
   "metadata": {},
   "outputs": [],
   "source": [
    "d1 = {'key':'value'} #key should always unique "
   ]
  },
  {
   "cell_type": "code",
   "execution_count": 6,
   "id": "512ca3bb",
   "metadata": {},
   "outputs": [
    {
     "data": {
      "text/plain": [
       "{'key': 'value'}"
      ]
     },
     "execution_count": 6,
     "metadata": {},
     "output_type": "execute_result"
    }
   ],
   "source": [
    "d1"
   ]
  },
  {
   "cell_type": "code",
   "execution_count": 7,
   "id": "8cd5b5df",
   "metadata": {},
   "outputs": [],
   "source": [
    "d2 = {'name':'Rohit', 'email':'rohit@gmail.com','mobile': 9319811424}"
   ]
  },
  {
   "cell_type": "code",
   "execution_count": 8,
   "id": "1305f346",
   "metadata": {},
   "outputs": [
    {
     "data": {
      "text/plain": [
       "{'name': 'Rohit', 'email': 'rohit@gmail.com', 'mobile': 9319811424}"
      ]
     },
     "execution_count": 8,
     "metadata": {},
     "output_type": "execute_result"
    }
   ],
   "source": [
    "d2"
   ]
  },
  {
   "cell_type": "code",
   "execution_count": 11,
   "id": "0cd71013",
   "metadata": {},
   "outputs": [],
   "source": [
    "d3 = {234 : 'rohit', True : 1234, '_wer':'kumar'}"
   ]
  },
  {
   "cell_type": "code",
   "execution_count": 12,
   "id": "238ce0c6",
   "metadata": {},
   "outputs": [
    {
     "data": {
      "text/plain": [
       "{234: 'rohit', True: 1234, '_wer': 'kumar'}"
      ]
     },
     "execution_count": 12,
     "metadata": {},
     "output_type": "execute_result"
    }
   ],
   "source": [
    "d3"
   ]
  },
  {
   "cell_type": "code",
   "execution_count": null,
   "id": "9d793f4d",
   "metadata": {},
   "outputs": [],
   "source": [
    "#by using key we fetch value in dict not index.\n"
   ]
  },
  {
   "cell_type": "code",
   "execution_count": 13,
   "id": "46ba62ac",
   "metadata": {},
   "outputs": [
    {
     "data": {
      "text/plain": [
       "'rohit'"
      ]
     },
     "execution_count": 13,
     "metadata": {},
     "output_type": "execute_result"
    }
   ],
   "source": [
    "d3[234]"
   ]
  },
  {
   "cell_type": "code",
   "execution_count": 15,
   "id": "8e285c7f",
   "metadata": {},
   "outputs": [
    {
     "data": {
      "text/plain": [
       "'kumar'"
      ]
     },
     "execution_count": 15,
     "metadata": {},
     "output_type": "execute_result"
    }
   ],
   "source": [
    "d3['_wer']"
   ]
  },
  {
   "cell_type": "code",
   "execution_count": 16,
   "id": "af749632",
   "metadata": {},
   "outputs": [
    {
     "data": {
      "text/plain": [
       "1234"
      ]
     },
     "execution_count": 16,
     "metadata": {},
     "output_type": "execute_result"
    }
   ],
   "source": [
    "d3[1]"
   ]
  },
  {
   "cell_type": "code",
   "execution_count": 17,
   "id": "996db903",
   "metadata": {},
   "outputs": [],
   "source": [
    "d4 = {'name':'Roh', 'mail':'rr@gmail.com', \"name\": \"Rohit\"}"
   ]
  },
  {
   "cell_type": "code",
   "execution_count": 18,
   "id": "72417486",
   "metadata": {},
   "outputs": [
    {
     "data": {
      "text/plain": [
       "{'name': 'Rohit', 'mail': 'rr@gmail.com'}"
      ]
     },
     "execution_count": 18,
     "metadata": {},
     "output_type": "execute_result"
    }
   ],
   "source": [
    "d4"
   ]
  },
  {
   "cell_type": "code",
   "execution_count": 19,
   "id": "d90cb52e",
   "metadata": {},
   "outputs": [
    {
     "data": {
      "text/plain": [
       "'Rohit'"
      ]
     },
     "execution_count": 19,
     "metadata": {},
     "output_type": "execute_result"
    }
   ],
   "source": [
    "d4['name'] # here name is override "
   ]
  },
  {
   "cell_type": "code",
   "execution_count": 20,
   "id": "fd7a33a2",
   "metadata": {},
   "outputs": [],
   "source": [
    "d5 = {\"company\":\"pwskills\", \"course\":[\"web dev\", \"data science\", \"java with dsa\"]}"
   ]
  },
  {
   "cell_type": "code",
   "execution_count": 21,
   "id": "0b0be84e",
   "metadata": {},
   "outputs": [
    {
     "data": {
      "text/plain": [
       "{'company': 'pwskills', 'course': ['web dev', 'data science', 'java with dsa']}"
      ]
     },
     "execution_count": 21,
     "metadata": {},
     "output_type": "execute_result"
    }
   ],
   "source": [
    "d5"
   ]
  },
  {
   "cell_type": "code",
   "execution_count": 22,
   "id": "1483caab",
   "metadata": {},
   "outputs": [
    {
     "data": {
      "text/plain": [
       "['web dev', 'data science', 'java with dsa']"
      ]
     },
     "execution_count": 22,
     "metadata": {},
     "output_type": "execute_result"
    }
   ],
   "source": [
    "d5['course']"
   ]
  },
  {
   "cell_type": "code",
   "execution_count": 23,
   "id": "39f54c49",
   "metadata": {},
   "outputs": [
    {
     "data": {
      "text/plain": [
       "'java with dsa'"
      ]
     },
     "execution_count": 23,
     "metadata": {},
     "output_type": "execute_result"
    }
   ],
   "source": [
    "d5['course'][2]"
   ]
  },
  {
   "cell_type": "code",
   "execution_count": 26,
   "id": "ee73bdae",
   "metadata": {},
   "outputs": [],
   "source": [
    "d6 = {'number':[2,43,23,34,34], \"assignment\":(1,2,3,4,5,6), \"launch_date\": {28,12,14}, \"class_time\" : {'web_dev':8, 'Data':10, 'Java':12}}"
   ]
  },
  {
   "cell_type": "code",
   "execution_count": 27,
   "id": "0cd0455e",
   "metadata": {},
   "outputs": [
    {
     "data": {
      "text/plain": [
       "{'number': [2, 43, 23, 34, 34],\n",
       " 'assignment': (1, 2, 3, 4, 5, 6),\n",
       " 'launch_date': {12, 14, 28},\n",
       " 'class_time': {'web_dev': 8, 'Data': 10, 'Java': 12}}"
      ]
     },
     "execution_count": 27,
     "metadata": {},
     "output_type": "execute_result"
    }
   ],
   "source": [
    "d6"
   ]
  },
  {
   "cell_type": "code",
   "execution_count": 28,
   "id": "d3f0cbdb",
   "metadata": {},
   "outputs": [],
   "source": [
    "#as a value we can take tuple, list in dict"
   ]
  },
  {
   "cell_type": "code",
   "execution_count": 29,
   "id": "886a41f5",
   "metadata": {},
   "outputs": [
    {
     "data": {
      "text/plain": [
       "{'web_dev': 8, 'Data': 10, 'Java': 12}"
      ]
     },
     "execution_count": 29,
     "metadata": {},
     "output_type": "execute_result"
    }
   ],
   "source": [
    "d6['class_time']"
   ]
  },
  {
   "cell_type": "code",
   "execution_count": 31,
   "id": "ba5df40c",
   "metadata": {},
   "outputs": [
    {
     "data": {
      "text/plain": [
       "12"
      ]
     },
     "execution_count": 31,
     "metadata": {},
     "output_type": "execute_result"
    }
   ],
   "source": [
    "d6['class_time']['Java']"
   ]
  },
  {
   "cell_type": "code",
   "execution_count": 32,
   "id": "6368d8ca",
   "metadata": {},
   "outputs": [],
   "source": [
    "d6['mentor']=['sudhanshu', 'krish', 'anurag', 'hayder']"
   ]
  },
  {
   "cell_type": "code",
   "execution_count": 33,
   "id": "0f0b59e1",
   "metadata": {},
   "outputs": [
    {
     "data": {
      "text/plain": [
       "{'number': [2, 43, 23, 34, 34],\n",
       " 'assignment': (1, 2, 3, 4, 5, 6),\n",
       " 'launch_date': {12, 14, 28},\n",
       " 'class_time': {'web_dev': 8, 'Data': 10, 'Java': 12},\n",
       " 'mentor': ['sudhanshu', 'krish', 'anurag', 'hayder']}"
      ]
     },
     "execution_count": 33,
     "metadata": {},
     "output_type": "execute_result"
    }
   ],
   "source": [
    "d6"
   ]
  },
  {
   "cell_type": "code",
   "execution_count": 34,
   "id": "dec5ca33",
   "metadata": {},
   "outputs": [],
   "source": [
    "del d6['number']  # for deleting the value pair from the dict"
   ]
  },
  {
   "cell_type": "code",
   "execution_count": 35,
   "id": "0cf11ab0",
   "metadata": {},
   "outputs": [
    {
     "data": {
      "text/plain": [
       "{'assignment': (1, 2, 3, 4, 5, 6),\n",
       " 'launch_date': {12, 14, 28},\n",
       " 'class_time': {'web_dev': 8, 'Data': 10, 'Java': 12},\n",
       " 'mentor': ['sudhanshu', 'krish', 'anurag', 'hayder']}"
      ]
     },
     "execution_count": 35,
     "metadata": {},
     "output_type": "execute_result"
    }
   ],
   "source": [
    "d6"
   ]
  },
  {
   "cell_type": "code",
   "execution_count": 36,
   "id": "1b7302e0",
   "metadata": {},
   "outputs": [
    {
     "data": {
      "text/plain": [
       "dict_keys(['assignment', 'launch_date', 'class_time', 'mentor'])"
      ]
     },
     "execution_count": 36,
     "metadata": {},
     "output_type": "execute_result"
    }
   ],
   "source": [
    "d6.keys()"
   ]
  },
  {
   "cell_type": "code",
   "execution_count": 37,
   "id": "f872be9d",
   "metadata": {},
   "outputs": [
    {
     "data": {
      "text/plain": [
       "dict_items([('assignment', (1, 2, 3, 4, 5, 6)), ('launch_date', {28, 12, 14}), ('class_time', {'web_dev': 8, 'Data': 10, 'Java': 12}), ('mentor', ['sudhanshu', 'krish', 'anurag', 'hayder'])])"
      ]
     },
     "execution_count": 37,
     "metadata": {},
     "output_type": "execute_result"
    }
   ],
   "source": [
    "d6.items()"
   ]
  },
  {
   "cell_type": "code",
   "execution_count": 38,
   "id": "c12f8880",
   "metadata": {},
   "outputs": [
    {
     "data": {
      "text/plain": [
       "['assignment', 'launch_date', 'class_time', 'mentor']"
      ]
     },
     "execution_count": 38,
     "metadata": {},
     "output_type": "execute_result"
    }
   ],
   "source": [
    "list(d6.keys())  #list of the dict"
   ]
  },
  {
   "cell_type": "code",
   "execution_count": 39,
   "id": "940171f8",
   "metadata": {},
   "outputs": [
    {
     "data": {
      "text/plain": [
       "{'assignment', 'class_time', 'launch_date', 'mentor'}"
      ]
     },
     "execution_count": 39,
     "metadata": {},
     "output_type": "execute_result"
    }
   ],
   "source": [
    "set(d6.keys())  #set of the dict"
   ]
  },
  {
   "cell_type": "code",
   "execution_count": 41,
   "id": "4cc2c8e1",
   "metadata": {},
   "outputs": [
    {
     "data": {
      "text/plain": [
       "{'web_dev': 8, 'Data': 10, 'Java': 12}"
      ]
     },
     "execution_count": 41,
     "metadata": {},
     "output_type": "execute_result"
    }
   ],
   "source": [
    "d6.get('class_time')"
   ]
  },
  {
   "cell_type": "code",
   "execution_count": null,
   "id": "920febd4",
   "metadata": {},
   "outputs": [],
   "source": [
    "#conditional  Statement \n"
   ]
  },
  {
   "cell_type": "code",
   "execution_count": 44,
   "id": "e5479b55",
   "metadata": {},
   "outputs": [
    {
     "name": "stdout",
     "output_type": "stream",
     "text": [
      "Enter the marks of student: 65\n",
      "you will be the part of A1 batch\n"
     ]
    }
   ],
   "source": [
    "marks = int(input(\"Enter the marks of student: \"))\n",
    "if marks >= 80:\n",
    "    print(\"You will be the part of A0 batch\")\n",
    "elif marks >= 60 and marks <80:\n",
    "    print(\"you will be the part of A1 batch\")\n",
    "elif marks >= 40 and marks < 60:\n",
    "    print(\"you will be the part of A2 batch\")\n",
    "else:\n",
    "    print(\"you will be the part of A3 batch\")"
   ]
  },
  {
   "cell_type": "code",
   "execution_count": 1,
   "id": "795ac2c4",
   "metadata": {},
   "outputs": [
    {
     "name": "stdout",
     "output_type": "stream",
     "text": [
      "Enter the price of the item: 7000\n",
      "I will not purchase\n"
     ]
    }
   ],
   "source": [
    "price = int(input(\"Enter the price of the item: \"))\n",
    "if price > 1000:\n",
    "    print(\"I will not purchase\")\n",
    "else: \n",
    "    print(\"I will purchase\")"
   ]
  },
  {
   "cell_type": "code",
   "execution_count": 2,
   "id": "adac43b6",
   "metadata": {},
   "outputs": [],
   "source": [
    "l = [1,2,3,3,4,5,6,7,8]"
   ]
  },
  {
   "cell_type": "code",
   "execution_count": 6,
   "id": "aeaef08c",
   "metadata": {},
   "outputs": [],
   "source": [
    "l1=[]\n",
    "l1.append(l[0]+1)"
   ]
  },
  {
   "cell_type": "code",
   "execution_count": 7,
   "id": "3b590b28",
   "metadata": {},
   "outputs": [
    {
     "data": {
      "text/plain": [
       "[2]"
      ]
     },
     "execution_count": 7,
     "metadata": {},
     "output_type": "execute_result"
    }
   ],
   "source": [
    "l1"
   ]
  },
  {
   "cell_type": "code",
   "execution_count": 8,
   "id": "fabda6fc",
   "metadata": {},
   "outputs": [
    {
     "data": {
      "text/plain": [
       "[1, 2, 3, 3, 4, 5, 6, 7, 8]"
      ]
     },
     "execution_count": 8,
     "metadata": {},
     "output_type": "execute_result"
    }
   ],
   "source": [
    "l"
   ]
  },
  {
   "cell_type": "code",
   "execution_count": 9,
   "id": "80d87745",
   "metadata": {},
   "outputs": [
    {
     "name": "stdout",
     "output_type": "stream",
     "text": [
      "1\n",
      "2\n",
      "3\n",
      "3\n",
      "4\n",
      "5\n",
      "6\n",
      "7\n",
      "8\n"
     ]
    }
   ],
   "source": [
    "# for loop\n",
    "\n",
    "for i in l:\n",
    "    print(i)"
   ]
  },
  {
   "cell_type": "code",
   "execution_count": 10,
   "id": "3616be99",
   "metadata": {},
   "outputs": [
    {
     "name": "stdout",
     "output_type": "stream",
     "text": [
      "2\n",
      "3\n",
      "4\n",
      "4\n",
      "5\n",
      "6\n",
      "7\n",
      "8\n",
      "9\n"
     ]
    }
   ],
   "source": [
    "for i in l:\n",
    "    print(i+1)"
   ]
  },
  {
   "cell_type": "code",
   "execution_count": 11,
   "id": "b425eb0e",
   "metadata": {},
   "outputs": [
    {
     "name": "stdout",
     "output_type": "stream",
     "text": [
      "[1, 2, 3, 3, 4, 5, 6, 7, 8]\n",
      "[1, 2, 3, 3, 4, 5, 6, 7, 8]\n",
      "[1, 2, 3, 3, 4, 5, 6, 7, 8]\n",
      "[1, 2, 3, 3, 4, 5, 6, 7, 8]\n",
      "[1, 2, 3, 3, 4, 5, 6, 7, 8]\n",
      "[1, 2, 3, 3, 4, 5, 6, 7, 8]\n",
      "[1, 2, 3, 3, 4, 5, 6, 7, 8]\n",
      "[1, 2, 3, 3, 4, 5, 6, 7, 8]\n",
      "[1, 2, 3, 3, 4, 5, 6, 7, 8]\n"
     ]
    }
   ],
   "source": [
    "for i in l:\n",
    "    print(l)"
   ]
  },
  {
   "cell_type": "code",
   "execution_count": 12,
   "id": "1e45432e",
   "metadata": {},
   "outputs": [],
   "source": [
    "lis = [\"Rohit\",\"kumar\", \"pwskills\", \"course\"]"
   ]
  },
  {
   "cell_type": "code",
   "execution_count": 16,
   "id": "29c1c24f",
   "metadata": {},
   "outputs": [
    {
     "name": "stdout",
     "output_type": "stream",
     "text": [
      "Rohit\n",
      "kumar\n",
      "pwskills\n",
      "course\n"
     ]
    }
   ],
   "source": [
    "lis1 = []\n",
    "for i in lis:\n",
    "    print(i)\n",
    "    lis1.append(i.upper()) # to convert in upper case"
   ]
  },
  {
   "cell_type": "code",
   "execution_count": 17,
   "id": "f62c5851",
   "metadata": {},
   "outputs": [
    {
     "data": {
      "text/plain": [
       "['ROHIT', 'KUMAR', 'PWSKILLS', 'COURSE']"
      ]
     },
     "execution_count": 17,
     "metadata": {},
     "output_type": "execute_result"
    }
   ],
   "source": [
    "lis1"
   ]
  },
  {
   "cell_type": "code",
   "execution_count": 2,
   "id": "c5325429",
   "metadata": {},
   "outputs": [],
   "source": [
    "l = [1,2,3,4,5,6,7,\"sudh\",\"kumar\", 345.67]"
   ]
  },
  {
   "cell_type": "code",
   "execution_count": 4,
   "id": "595fc956",
   "metadata": {},
   "outputs": [],
   "source": [
    "l1 = []\n",
    "l2 = []\n",
    "for i in l:\n",
    "    if(type(i)== int or type(i)==float):\n",
    "        l1.append(i)\n",
    "        #print(l1)\n",
    "    else:\n",
    "        l2.append(i)\n",
    "        #print(l2)"
   ]
  },
  {
   "cell_type": "code",
   "execution_count": 5,
   "id": "503042a1",
   "metadata": {},
   "outputs": [
    {
     "data": {
      "text/plain": [
       "[1, 2, 3, 4, 5, 6, 7, 345.67]"
      ]
     },
     "execution_count": 5,
     "metadata": {},
     "output_type": "execute_result"
    }
   ],
   "source": [
    "l1"
   ]
  },
  {
   "cell_type": "code",
   "execution_count": 6,
   "id": "651ef0af",
   "metadata": {},
   "outputs": [
    {
     "data": {
      "text/plain": [
       "['sudh', 'kumar']"
      ]
     },
     "execution_count": 6,
     "metadata": {},
     "output_type": "execute_result"
    }
   ],
   "source": [
    "l2"
   ]
  },
  {
   "cell_type": "code",
   "execution_count": 7,
   "id": "8a8f3870",
   "metadata": {},
   "outputs": [],
   "source": [
    "l = [1,2,3,4,5]"
   ]
  },
  {
   "cell_type": "code",
   "execution_count": 9,
   "id": "e42113f6",
   "metadata": {},
   "outputs": [
    {
     "name": "stdout",
     "output_type": "stream",
     "text": [
      "1 <class 'int'>\n",
      "2 <class 'int'>\n",
      "3 <class 'int'>\n",
      "4 <class 'int'>\n",
      "5 <class 'int'>\n"
     ]
    }
   ],
   "source": [
    "for i in l:\n",
    "    print(i, type(i))"
   ]
  },
  {
   "cell_type": "code",
   "execution_count": 2,
   "id": "84d87ff5",
   "metadata": {},
   "outputs": [],
   "source": [
    "l1 = [\"sudh\",\"kumar\",\"krish\",\"nair\"]"
   ]
  },
  {
   "cell_type": "code",
   "execution_count": 11,
   "id": "cd91a154",
   "metadata": {},
   "outputs": [
    {
     "name": "stdout",
     "output_type": "stream",
     "text": [
      "sudh\n",
      "kumar\n",
      "krish\n",
      "nair\n"
     ]
    }
   ],
   "source": [
    "for i in l1:\n",
    "    print(i)"
   ]
  },
  {
   "cell_type": "code",
   "execution_count": 12,
   "id": "d302ea3f",
   "metadata": {},
   "outputs": [
    {
     "data": {
      "text/plain": [
       "['sudh', 'kumar', 'krish', 'nair']"
      ]
     },
     "execution_count": 12,
     "metadata": {},
     "output_type": "execute_result"
    }
   ],
   "source": [
    "l1"
   ]
  },
  {
   "cell_type": "code",
   "execution_count": 13,
   "id": "6fa726ef",
   "metadata": {},
   "outputs": [
    {
     "name": "stdout",
     "output_type": "stream",
     "text": [
      "sudh\n",
      "kumar\n",
      "krish\n",
      "nair\n",
      "do something\n"
     ]
    }
   ],
   "source": [
    "for i in l1:# for-else , else only execute when  for loop complete itself then else will execute \n",
    "    print(i)\n",
    "else:\n",
    "    print(\"do something\")"
   ]
  },
  {
   "cell_type": "code",
   "execution_count": 14,
   "id": "724487a6",
   "metadata": {},
   "outputs": [
    {
     "data": {
      "text/plain": [
       "['sudh', 'kumar', 'krish', 'nair']"
      ]
     },
     "execution_count": 14,
     "metadata": {},
     "output_type": "execute_result"
    }
   ],
   "source": [
    "l1"
   ]
  },
  {
   "cell_type": "code",
   "execution_count": 19,
   "id": "5c06ac73",
   "metadata": {},
   "outputs": [
    {
     "name": "stdout",
     "output_type": "stream",
     "text": [
      "sudh\n"
     ]
    }
   ],
   "source": [
    "for i in l1:\n",
    "    if i=='kumar':\n",
    "        break   #break will stop the execution\n",
    "    print(i)\n",
    "else:\n",
    "    print(\"execute this if for loop is able to execute\")"
   ]
  },
  {
   "cell_type": "code",
   "execution_count": 20,
   "id": "6f5a0bbe",
   "metadata": {},
   "outputs": [
    {
     "data": {
      "text/plain": [
       "['sudh', 'kumar', 'krish', 'nair']"
      ]
     },
     "execution_count": 20,
     "metadata": {},
     "output_type": "execute_result"
    }
   ],
   "source": [
    "l1"
   ]
  },
  {
   "cell_type": "code",
   "execution_count": 22,
   "id": "575caa57",
   "metadata": {},
   "outputs": [
    {
     "name": "stdout",
     "output_type": "stream",
     "text": [
      "sudh\n",
      "krish\n",
      "nair\n",
      "execute only if the for loop execute successfully\n"
     ]
    }
   ],
   "source": [
    "for i in l1:\n",
    "    if i=='kumar':\n",
    "        continue\n",
    "    print(i)\n",
    "else:\n",
    "    print(\"execute only if the for loop execute successfully\")"
   ]
  },
  {
   "cell_type": "code",
   "execution_count": 25,
   "id": "e81a0eba",
   "metadata": {},
   "outputs": [
    {
     "name": "stdout",
     "output_type": "stream",
     "text": [
      "range(0, 5)\n"
     ]
    }
   ],
   "source": [
    "range(5)"
   ]
  },
  {
   "cell_type": "code",
   "execution_count": 26,
   "id": "ba3b93e0",
   "metadata": {},
   "outputs": [
    {
     "data": {
      "text/plain": [
       "[0, 1, 2, 3, 4]"
      ]
     },
     "execution_count": 26,
     "metadata": {},
     "output_type": "execute_result"
    }
   ],
   "source": [
    "list(range(5))"
   ]
  },
  {
   "cell_type": "code",
   "execution_count": 27,
   "id": "e35b39e5",
   "metadata": {},
   "outputs": [
    {
     "data": {
      "text/plain": [
       "[0, 1, 2, 3, 4]"
      ]
     },
     "execution_count": 27,
     "metadata": {},
     "output_type": "execute_result"
    }
   ],
   "source": [
    "list(range(0,5,1))"
   ]
  },
  {
   "cell_type": "code",
   "execution_count": 28,
   "id": "c3051aa6",
   "metadata": {},
   "outputs": [
    {
     "data": {
      "text/plain": [
       "[0, 2, 4, 6, 8]"
      ]
     },
     "execution_count": 28,
     "metadata": {},
     "output_type": "execute_result"
    }
   ],
   "source": [
    "list(range(0,10,2))"
   ]
  },
  {
   "cell_type": "code",
   "execution_count": 29,
   "id": "533ad76d",
   "metadata": {},
   "outputs": [
    {
     "data": {
      "text/plain": [
       "[-10, -9, -8, -7, -6, -5, -4, -3, -2, -1]"
      ]
     },
     "execution_count": 29,
     "metadata": {},
     "output_type": "execute_result"
    }
   ],
   "source": [
    "list(range(-10,0))"
   ]
  },
  {
   "cell_type": "code",
   "execution_count": 30,
   "id": "606c447e",
   "metadata": {},
   "outputs": [
    {
     "data": {
      "text/plain": [
       "['sudh', 'kumar', 'krish', 'nair']"
      ]
     },
     "execution_count": 30,
     "metadata": {},
     "output_type": "execute_result"
    }
   ],
   "source": [
    "l1"
   ]
  },
  {
   "cell_type": "code",
   "execution_count": 5,
   "id": "47c39595",
   "metadata": {},
   "outputs": [
    {
     "name": "stdout",
     "output_type": "stream",
     "text": [
      "sudh\n",
      "kumar\n",
      "krish\n",
      "nair\n"
     ]
    }
   ],
   "source": [
    "for i in range(len(l1)):\n",
    "    print(l1[i])\n",
    "    "
   ]
  },
  {
   "cell_type": "code",
   "execution_count": 10,
   "id": "7160ce09",
   "metadata": {},
   "outputs": [
    {
     "name": "stdout",
     "output_type": "stream",
     "text": [
      "nair\n",
      "krish\n",
      "kumar\n",
      "sudh\n"
     ]
    }
   ],
   "source": [
    "for i in range(len(l1)-1,-1,-1):\n",
    "    print(l1[i])\n",
    "    "
   ]
  },
  {
   "cell_type": "code",
   "execution_count": 11,
   "id": "3b2aa6fe",
   "metadata": {},
   "outputs": [],
   "source": [
    "l2 = [23,5,3,45,56,6,6,76,78,87,677,9,9,40]"
   ]
  },
  {
   "cell_type": "code",
   "execution_count": 13,
   "id": "78961f8e",
   "metadata": {},
   "outputs": [
    {
     "data": {
      "text/plain": [
       "[0, 2, 4, 6, 8, 10, 12]"
      ]
     },
     "execution_count": 13,
     "metadata": {},
     "output_type": "execute_result"
    }
   ],
   "source": [
    "list(range(0, len(l2), 2))"
   ]
  },
  {
   "cell_type": "code",
   "execution_count": 14,
   "id": "cb274186",
   "metadata": {},
   "outputs": [
    {
     "data": {
      "text/plain": [
       "1120"
      ]
     },
     "execution_count": 14,
     "metadata": {},
     "output_type": "execute_result"
    }
   ],
   "source": [
    "sum(l2)"
   ]
  },
  {
   "cell_type": "code",
   "execution_count": 15,
   "id": "b090a2c0",
   "metadata": {},
   "outputs": [
    {
     "data": {
      "text/plain": [
       "1120"
      ]
     },
     "execution_count": 15,
     "metadata": {},
     "output_type": "execute_result"
    }
   ],
   "source": [
    "result = 0\n",
    "for i in l2:\n",
    "    result = result + i\n",
    "result"
   ]
  },
  {
   "cell_type": "code",
   "execution_count": 16,
   "id": "db240fd2",
   "metadata": {},
   "outputs": [],
   "source": [
    "t = (1,2,3,4,5,6)"
   ]
  },
  {
   "cell_type": "code",
   "execution_count": 17,
   "id": "8006f425",
   "metadata": {},
   "outputs": [
    {
     "name": "stdout",
     "output_type": "stream",
     "text": [
      "1\n",
      "2\n",
      "3\n",
      "4\n",
      "5\n",
      "6\n"
     ]
    }
   ],
   "source": [
    "for i in t:\n",
    "    print(i)"
   ]
  },
  {
   "cell_type": "code",
   "execution_count": 18,
   "id": "03593692",
   "metadata": {},
   "outputs": [
    {
     "data": {
      "text/plain": [
       "21"
      ]
     },
     "execution_count": 18,
     "metadata": {},
     "output_type": "execute_result"
    }
   ],
   "source": [
    "result = 0\n",
    "for i in t:\n",
    "    result = result + i\n",
    "result"
   ]
  },
  {
   "cell_type": "code",
   "execution_count": 19,
   "id": "e411e05a",
   "metadata": {},
   "outputs": [
    {
     "name": "stdout",
     "output_type": "stream",
     "text": [
      "1\n",
      "2\n",
      "3\n",
      "4\n",
      "pwskills\n",
      "sudh\n"
     ]
    }
   ],
   "source": [
    "s = {1,2,3,4,\"sudh\",\"pwskills\"}\n",
    "for i in s:\n",
    "    print(i)"
   ]
  },
  {
   "cell_type": "code",
   "execution_count": 20,
   "id": "6fd26df1",
   "metadata": {},
   "outputs": [
    {
     "name": "stdout",
     "output_type": "stream",
     "text": [
      "p\n",
      "w\n",
      "s\n",
      "k\n",
      "i\n",
      "l\n",
      "l\n",
      "s\n"
     ]
    }
   ],
   "source": [
    "s1 = \"pwskills\"\n",
    "for i in s1:\n",
    "    print(i)"
   ]
  },
  {
   "cell_type": "code",
   "execution_count": 21,
   "id": "6abd7088",
   "metadata": {},
   "outputs": [],
   "source": [
    "d= {\"name\":\"Rohit\", \"class\":\"Data_science_Master\", \"topic\":[\"python\", \"stats\", \"ml\",\"Deep learning\", \"Nlp\",\"Resume\"]}"
   ]
  },
  {
   "cell_type": "code",
   "execution_count": 22,
   "id": "45c076b7",
   "metadata": {},
   "outputs": [
    {
     "data": {
      "text/plain": [
       "{'name': 'Rohit',\n",
       " 'class': 'Data_science_Master',\n",
       " 'topic': ['python', 'stats', 'ml', 'Deep learning', 'Nlp', 'Resume']}"
      ]
     },
     "execution_count": 22,
     "metadata": {},
     "output_type": "execute_result"
    }
   ],
   "source": [
    "d"
   ]
  },
  {
   "cell_type": "code",
   "execution_count": 23,
   "id": "eb1b91e8",
   "metadata": {},
   "outputs": [
    {
     "data": {
      "text/plain": [
       "dict_keys(['name', 'class', 'topic'])"
      ]
     },
     "execution_count": 23,
     "metadata": {},
     "output_type": "execute_result"
    }
   ],
   "source": [
    "d.keys()"
   ]
  },
  {
   "cell_type": "code",
   "execution_count": 24,
   "id": "72c2cee1",
   "metadata": {},
   "outputs": [
    {
     "name": "stdout",
     "output_type": "stream",
     "text": [
      "Rohit\n",
      "Data_science_Master\n",
      "['python', 'stats', 'ml', 'Deep learning', 'Nlp', 'Resume']\n"
     ]
    }
   ],
   "source": [
    "for i in d.keys():\n",
    "    print(d[i])"
   ]
  },
  {
   "cell_type": "code",
   "execution_count": 25,
   "id": "f94926f1",
   "metadata": {},
   "outputs": [
    {
     "data": {
      "text/plain": [
       "dict_values(['Rohit', 'Data_science_Master', ['python', 'stats', 'ml', 'Deep learning', 'Nlp', 'Resume']])"
      ]
     },
     "execution_count": 25,
     "metadata": {},
     "output_type": "execute_result"
    }
   ],
   "source": [
    "d.values()"
   ]
  },
  {
   "cell_type": "code",
   "execution_count": 26,
   "id": "42f8e61c",
   "metadata": {},
   "outputs": [
    {
     "name": "stdout",
     "output_type": "stream",
     "text": [
      "Rohit\n",
      "Data_science_Master\n",
      "['python', 'stats', 'ml', 'Deep learning', 'Nlp', 'Resume']\n"
     ]
    }
   ],
   "source": [
    "for i in d.values():\n",
    "    print(i)"
   ]
  },
  {
   "cell_type": "code",
   "execution_count": 27,
   "id": "d11b8d83",
   "metadata": {},
   "outputs": [
    {
     "data": {
      "text/plain": [
       "dict_items([('name', 'Rohit'), ('class', 'Data_science_Master'), ('topic', ['python', 'stats', 'ml', 'Deep learning', 'Nlp', 'Resume'])])"
      ]
     },
     "execution_count": 27,
     "metadata": {},
     "output_type": "execute_result"
    }
   ],
   "source": [
    "d.items()"
   ]
  },
  {
   "cell_type": "code",
   "execution_count": 28,
   "id": "be235e70",
   "metadata": {},
   "outputs": [
    {
     "name": "stdout",
     "output_type": "stream",
     "text": [
      "('name', 'Rohit')\n",
      "('class', 'Data_science_Master')\n",
      "('topic', ['python', 'stats', 'ml', 'Deep learning', 'Nlp', 'Resume'])\n"
     ]
    }
   ],
   "source": [
    "for i in d.items():\n",
    "    print(i)"
   ]
  }
 ],
 "metadata": {
  "kernelspec": {
   "display_name": "Python 3 (ipykernel)",
   "language": "python",
   "name": "python3"
  },
  "language_info": {
   "codemirror_mode": {
    "name": "ipython",
    "version": 3
   },
   "file_extension": ".py",
   "mimetype": "text/x-python",
   "name": "python",
   "nbconvert_exporter": "python",
   "pygments_lexer": "ipython3",
   "version": "3.9.13"
  }
 },
 "nbformat": 4,
 "nbformat_minor": 5
}
