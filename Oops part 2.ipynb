{
 "cells": [
  {
   "cell_type": "code",
   "execution_count": 21,
   "id": "7e146464-1c4a-4cc7-966a-4d86cf264f78",
   "metadata": {},
   "outputs": [],
   "source": [
    "# Decorators\n",
    "#using without decorator\n",
    "def test():\n",
    "    print(\"This is the start of my function\")\n",
    "    print(\"This is my fun to test\")\n",
    "    print(\"This is the end of the function\")"
   ]
  },
  {
   "cell_type": "code",
   "execution_count": 22,
   "id": "1c006c61-16d1-40f4-9689-ea54eb04849c",
   "metadata": {},
   "outputs": [
    {
     "name": "stdout",
     "output_type": "stream",
     "text": [
      "This is the start of my function\n",
      "This is my fun to test\n",
      "This is the end of the function\n"
     ]
    }
   ],
   "source": [
    "test()"
   ]
  },
  {
   "cell_type": "code",
   "execution_count": 23,
   "id": "e821ae1b-63d8-4599-9b17-69ac9dff9403",
   "metadata": {},
   "outputs": [],
   "source": [
    "def deco(func):  #using the decorator\n",
    "    def inner_dec():\n",
    "        print(\"This is the start of my func\")\n",
    "        func()\n",
    "        print(\"This is the end of my func\")\n",
    "    return inner_dec"
   ]
  },
  {
   "cell_type": "code",
   "execution_count": 24,
   "id": "d431df7d-76f0-41b1-b611-367c2c516baf",
   "metadata": {},
   "outputs": [],
   "source": [
    "@deco\n",
    "def test1():\n",
    "    print(6+7)"
   ]
  },
  {
   "cell_type": "code",
   "execution_count": 25,
   "id": "75897761-b8c3-469d-ba14-a855a7f07fe8",
   "metadata": {},
   "outputs": [
    {
     "name": "stdout",
     "output_type": "stream",
     "text": [
      "This is the start of my func\n",
      "13\n",
      "This is the end of my func\n"
     ]
    }
   ],
   "source": [
    "test1()"
   ]
  },
  {
   "cell_type": "code",
   "execution_count": 26,
   "id": "716845f3-e4a0-4604-aac1-add9cf00f5f6",
   "metadata": {},
   "outputs": [],
   "source": [
    "import time\n",
    "\n",
    "def timer_test(func):\n",
    "    def timer_test_inner():\n",
    "        start = time.time()\n",
    "        func()\n",
    "        end = time.time()\n",
    "        print(end-start)\n",
    "    return timer_test_inner"
   ]
  },
  {
   "cell_type": "code",
   "execution_count": 27,
   "id": "932b6a24-a92c-467e-b066-360a57bd0731",
   "metadata": {},
   "outputs": [],
   "source": [
    "def test2():\n",
    "    print(45+78)"
   ]
  },
  {
   "cell_type": "code",
   "execution_count": 28,
   "id": "f9093329-c19d-40c2-ad6c-5f26fdffaeb5",
   "metadata": {},
   "outputs": [
    {
     "name": "stdout",
     "output_type": "stream",
     "text": [
      "123\n"
     ]
    }
   ],
   "source": [
    "test2()"
   ]
  },
  {
   "cell_type": "code",
   "execution_count": 29,
   "id": "f5724550-baf7-4c39-9edb-2c8d2243a4de",
   "metadata": {},
   "outputs": [],
   "source": [
    "@timer_test  #decorator function\n",
    "def test2():\n",
    "    print(45+78)"
   ]
  },
  {
   "cell_type": "code",
   "execution_count": 30,
   "id": "7c4c82ab-f86c-4aaa-b0df-86a470a4dc7e",
   "metadata": {},
   "outputs": [
    {
     "name": "stdout",
     "output_type": "stream",
     "text": [
      "123\n",
      "5.53131103515625e-05\n"
     ]
    }
   ],
   "source": [
    "test2()"
   ]
  },
  {
   "cell_type": "code",
   "execution_count": 31,
   "id": "8f3a61d5-d676-414e-aad8-6480dc53e657",
   "metadata": {},
   "outputs": [],
   "source": [
    "@timer_test\n",
    "def test3():\n",
    "    for i in range(1000000):\n",
    "        pass"
   ]
  },
  {
   "cell_type": "code",
   "execution_count": 32,
   "id": "0ca2a441-c2f1-4025-887f-722d3450d2fd",
   "metadata": {},
   "outputs": [
    {
     "name": "stdout",
     "output_type": "stream",
     "text": [
      "0.02164912223815918\n"
     ]
    }
   ],
   "source": [
    "test3()"
   ]
  },
  {
   "cell_type": "code",
   "execution_count": 33,
   "id": "7ecc892b-d82e-428f-a4db-c1254b163033",
   "metadata": {},
   "outputs": [],
   "source": [
    "# class Methods"
   ]
  },
  {
   "cell_type": "code",
   "execution_count": 34,
   "id": "a1c4e565-4398-40c5-a549-5033645e063a",
   "metadata": {},
   "outputs": [],
   "source": [
    "class pwskills:\n",
    "    \n",
    "    def __init__(self, name, email):\n",
    "        self.name = name\n",
    "        self.email = email\n",
    "        \n",
    "    def students_details(self):\n",
    "        print(self.name, self.email)"
   ]
  },
  {
   "cell_type": "code",
   "execution_count": 35,
   "id": "0f04c3c0-cb83-4434-a307-552eac2b9787",
   "metadata": {},
   "outputs": [],
   "source": [
    "pw = pwskills('mohan', 'mohan@gmail.com')"
   ]
  },
  {
   "cell_type": "code",
   "execution_count": 36,
   "id": "627a97cc-25fd-43e0-af65-39abb427c083",
   "metadata": {},
   "outputs": [
    {
     "data": {
      "text/plain": [
       "'mohan'"
      ]
     },
     "execution_count": 36,
     "metadata": {},
     "output_type": "execute_result"
    }
   ],
   "source": [
    "pw.name"
   ]
  },
  {
   "cell_type": "code",
   "execution_count": 37,
   "id": "45408c22-a311-4e3d-bb72-61178e31d79e",
   "metadata": {},
   "outputs": [
    {
     "data": {
      "text/plain": [
       "'mohan@gmail.com'"
      ]
     },
     "execution_count": 37,
     "metadata": {},
     "output_type": "execute_result"
    }
   ],
   "source": [
    "pw.email"
   ]
  },
  {
   "cell_type": "code",
   "execution_count": 38,
   "id": "3c03c237-1a32-4aac-b970-ea18a62e7ae8",
   "metadata": {},
   "outputs": [
    {
     "name": "stdout",
     "output_type": "stream",
     "text": [
      "mohan mohan@gmail.com\n"
     ]
    }
   ],
   "source": [
    "pw.students_details()"
   ]
  },
  {
   "cell_type": "code",
   "execution_count": 39,
   "id": "c6f097e3-6485-495b-bef9-e1aad4cb69f8",
   "metadata": {},
   "outputs": [],
   "source": [
    "class pwskills1:\n",
    "    \n",
    "    def __init__(self, name, email):\n",
    "        self.name = name\n",
    "        self.email = email\n",
    "        \n",
    "    @classmethod\n",
    "    def details(cls, name, email):\n",
    "        return cls(name, email)\n",
    "        \n",
    "    def students_details(self):\n",
    "        print(self.name, self.email)"
   ]
  },
  {
   "cell_type": "code",
   "execution_count": 40,
   "id": "53c2011d-1160-41bb-83c6-7ab14e3edf78",
   "metadata": {},
   "outputs": [],
   "source": [
    "pw1 = pwskills1.details('mohan','mohan@gmail.com')"
   ]
  },
  {
   "cell_type": "code",
   "execution_count": 41,
   "id": "2323ec38-7c2e-404c-a037-227a8a03b1b1",
   "metadata": {},
   "outputs": [
    {
     "data": {
      "text/plain": [
       "'mohan'"
      ]
     },
     "execution_count": 41,
     "metadata": {},
     "output_type": "execute_result"
    }
   ],
   "source": [
    "pw1.name"
   ]
  },
  {
   "cell_type": "code",
   "execution_count": 42,
   "id": "fa891b89-1f54-4505-a269-1a7b57909575",
   "metadata": {},
   "outputs": [
    {
     "data": {
      "text/plain": [
       "'mohan@gmail.com'"
      ]
     },
     "execution_count": 42,
     "metadata": {},
     "output_type": "execute_result"
    }
   ],
   "source": [
    "pw1.email"
   ]
  },
  {
   "cell_type": "code",
   "execution_count": 43,
   "id": "23af3a42-0cba-42d4-b2ae-55e6f9bbb199",
   "metadata": {},
   "outputs": [
    {
     "name": "stdout",
     "output_type": "stream",
     "text": [
      "mohan mohan@gmail.com\n"
     ]
    }
   ],
   "source": [
    "pw1.students_details()"
   ]
  },
  {
   "cell_type": "code",
   "execution_count": 44,
   "id": "18251552-ade4-42bc-a5ea-3dfda173d024",
   "metadata": {},
   "outputs": [],
   "source": [
    "class pwskills2:\n",
    "    \n",
    "    mob_num = 9123456780\n",
    "    \n",
    "    def __init__(self, name, email):\n",
    "        self.name = name\n",
    "        self.email = email\n",
    "    @classmethod    \n",
    "    def change_number(cls, mobile):\n",
    "        pwskills2.mob_num = mobile\n",
    "        \n",
    "    @classmethod\n",
    "    def details(cls, name, email):\n",
    "        return cls(name, email)\n",
    "        \n",
    "    def students_details(self):\n",
    "        print(self.name, self.email,pwskills2.mob_num)"
   ]
  },
  {
   "cell_type": "code",
   "execution_count": 45,
   "id": "187ea9c3-32be-4264-9490-def91741739e",
   "metadata": {},
   "outputs": [
    {
     "data": {
      "text/plain": [
       "9123456780"
      ]
     },
     "execution_count": 45,
     "metadata": {},
     "output_type": "execute_result"
    }
   ],
   "source": [
    "pwskills2.mob_num"
   ]
  },
  {
   "cell_type": "code",
   "execution_count": 46,
   "id": "79a4e91f-021e-4fda-bc0c-5cdecdec372e",
   "metadata": {},
   "outputs": [],
   "source": [
    "pwskills2.change_number(9319822234)"
   ]
  },
  {
   "cell_type": "code",
   "execution_count": 47,
   "id": "17895d23-dca9-4842-8e44-614ddd0e9ff4",
   "metadata": {},
   "outputs": [
    {
     "data": {
      "text/plain": [
       "9319822234"
      ]
     },
     "execution_count": 47,
     "metadata": {},
     "output_type": "execute_result"
    }
   ],
   "source": [
    "pwskills2.mob_num"
   ]
  },
  {
   "cell_type": "code",
   "execution_count": 48,
   "id": "af93968c-5e7c-4805-b664-13d9c01406ba",
   "metadata": {},
   "outputs": [
    {
     "data": {
      "text/plain": [
       "9319822234"
      ]
     },
     "execution_count": 48,
     "metadata": {},
     "output_type": "execute_result"
    }
   ],
   "source": [
    "pwskills2.mob_num"
   ]
  },
  {
   "cell_type": "code",
   "execution_count": 49,
   "id": "3f7338e9-e9c3-42e1-b4f6-c84ef35739eb",
   "metadata": {},
   "outputs": [],
   "source": [
    "pw = pwskills2.details('rohan','rohan@gmail.com')"
   ]
  },
  {
   "cell_type": "code",
   "execution_count": 50,
   "id": "7961513b-11fc-4dcc-9395-9980970f6ad6",
   "metadata": {},
   "outputs": [
    {
     "name": "stdout",
     "output_type": "stream",
     "text": [
      "rohan rohan@gmail.com 9319822234\n"
     ]
    }
   ],
   "source": [
    "pw.students_details()"
   ]
  },
  {
   "cell_type": "code",
   "execution_count": 51,
   "id": "e91378d8-879f-416d-a234-015290f825fb",
   "metadata": {},
   "outputs": [],
   "source": [
    "class pwskills3:\n",
    "    \n",
    "    mob_num = 9123456780\n",
    "    \n",
    "    def __init__(self, name, email):\n",
    "        self.name = name\n",
    "        self.email = email\n",
    "    @classmethod    \n",
    "    def change_number(cls, mobile):\n",
    "        pwskills2.mob_num = mobile\n",
    "        \n",
    "    @classmethod\n",
    "    def details(cls, name, email):\n",
    "        return cls(name, email)\n",
    "        \n",
    "    def students_details(self):\n",
    "        print(self.name, self.email,pwskills2.mob_num)"
   ]
  },
  {
   "cell_type": "code",
   "execution_count": 52,
   "id": "ebdf1566-da7b-455c-8b4c-8af509a387a5",
   "metadata": {},
   "outputs": [],
   "source": [
    "def course_name(cls, course_name):\n",
    "    print('course name is ' , course_name)"
   ]
  },
  {
   "cell_type": "code",
   "execution_count": 53,
   "id": "0f63b31d-65f8-4e4e-95ce-621fb9d1a02d",
   "metadata": {},
   "outputs": [],
   "source": [
    "pwskills3.course_name = classmethod(course_name)"
   ]
  },
  {
   "cell_type": "code",
   "execution_count": 54,
   "id": "ce86b0e3-cc6c-4bae-aa0a-3f20b8ee1f72",
   "metadata": {},
   "outputs": [
    {
     "name": "stdout",
     "output_type": "stream",
     "text": [
      "course name is  data science masters\n"
     ]
    }
   ],
   "source": [
    "pwskills3.course_name('data science masters')"
   ]
  },
  {
   "cell_type": "code",
   "execution_count": 55,
   "id": "e686b387-a54e-47c2-aaef-0c8ff75142dd",
   "metadata": {},
   "outputs": [],
   "source": [
    "def mentor(cls, list_of_mentor):\n",
    "    print(list_of_mentor)"
   ]
  },
  {
   "cell_type": "code",
   "execution_count": 56,
   "id": "7dce3f2b-8611-46f8-9949-81150c3dc94e",
   "metadata": {},
   "outputs": [],
   "source": [
    "pwskills3.mentor = classmethod(mentor)"
   ]
  },
  {
   "cell_type": "code",
   "execution_count": 57,
   "id": "79db3e7d-c331-44d1-bf6c-464e652efe10",
   "metadata": {},
   "outputs": [
    {
     "name": "stdout",
     "output_type": "stream",
     "text": [
      "['sudhanshu', 'krish', 'hitesh']\n"
     ]
    }
   ],
   "source": [
    "pwskills3.mentor(['sudhanshu', 'krish', 'hitesh'])"
   ]
  },
  {
   "cell_type": "code",
   "execution_count": 58,
   "id": "27ee92d9-e785-4c32-b2e5-f3202da094a6",
   "metadata": {},
   "outputs": [],
   "source": [
    "class pwskills4:\n",
    "    \n",
    "    mob_num = 9123456780\n",
    "    \n",
    "    def __init__(self, name, email):\n",
    "        self.name = name\n",
    "        self.email = email\n",
    "    @classmethod    \n",
    "    def change_number(cls, mobile):\n",
    "        pwskills2.mob_num = mobile\n",
    "        \n",
    "    @classmethod\n",
    "    def details(cls, name, email):\n",
    "        return cls(name, email)\n",
    "        \n",
    "    def students_details(self):\n",
    "        print(self.name, self.email,pwskills2.mob_num)"
   ]
  },
  {
   "cell_type": "code",
   "execution_count": 59,
   "id": "9ff5c62b-9161-4ec0-aea1-8aa6b96c8aa9",
   "metadata": {},
   "outputs": [],
   "source": [
    "del pwskills4.change_number  # for changing the function in  the class"
   ]
  },
  {
   "cell_type": "code",
   "execution_count": 60,
   "id": "0003f114-6d8d-4294-92be-f35368799cee",
   "metadata": {},
   "outputs": [
    {
     "ename": "AttributeError",
     "evalue": "type object 'pwskills' has no attribute 'change_number'",
     "output_type": "error",
     "traceback": [
      "\u001b[0;31m---------------------------------------------------------------------------\u001b[0m",
      "\u001b[0;31mAttributeError\u001b[0m                            Traceback (most recent call last)",
      "Cell \u001b[0;32mIn[60], line 1\u001b[0m\n\u001b[0;32m----> 1\u001b[0m \u001b[43mpwskills\u001b[49m\u001b[38;5;241;43m.\u001b[39;49m\u001b[43mchange_number\u001b[49m(\u001b[38;5;241m9923419112\u001b[39m)\n",
      "\u001b[0;31mAttributeError\u001b[0m: type object 'pwskills' has no attribute 'change_number'"
     ]
    }
   ],
   "source": [
    "pwskills.change_number(9923419112)"
   ]
  },
  {
   "cell_type": "code",
   "execution_count": 61,
   "id": "76a5fbbd-8d3d-4d0f-b4c7-f59a6136efa0",
   "metadata": {},
   "outputs": [],
   "source": [
    "delattr(pwskills4, 'details')  # another way to delete"
   ]
  },
  {
   "cell_type": "code",
   "execution_count": 62,
   "id": "5c011e3a-2fe3-410f-901b-45bc183e2270",
   "metadata": {},
   "outputs": [
    {
     "ename": "SyntaxError",
     "evalue": "invalid syntax (2106430868.py, line 1)",
     "output_type": "error",
     "traceback": [
      "\u001b[0;36m  Cell \u001b[0;32mIn[62], line 1\u001b[0;36m\u001b[0m\n\u001b[0;31m    pwskills.\u001b[0m\n\u001b[0m             ^\u001b[0m\n\u001b[0;31mSyntaxError\u001b[0m\u001b[0;31m:\u001b[0m invalid syntax\n"
     ]
    }
   ],
   "source": [
    "pwskills."
   ]
  },
  {
   "cell_type": "code",
   "execution_count": 63,
   "id": "db3f4595-7fc5-49e2-9023-ea146bee5367",
   "metadata": {},
   "outputs": [],
   "source": [
    "delattr(pwskills4, 'mob_num')"
   ]
  },
  {
   "cell_type": "code",
   "execution_count": 64,
   "id": "606fc046-e1f8-48cb-9794-778f415ef268",
   "metadata": {},
   "outputs": [],
   "source": [
    "#Static Method"
   ]
  },
  {
   "cell_type": "code",
   "execution_count": 65,
   "id": "c093a9cf-76f8-48c0-b2ae-bb1831ee2d9e",
   "metadata": {},
   "outputs": [],
   "source": [
    "class pwskills:\n",
    "    \n",
    "    def student_details(self, name, email, phone):\n",
    "        print(name, email, phone)"
   ]
  },
  {
   "cell_type": "code",
   "execution_count": 66,
   "id": "0f66f6d8-3d89-41d9-ba9d-3cae89eb44aa",
   "metadata": {},
   "outputs": [],
   "source": [
    "pw = pwskills()"
   ]
  },
  {
   "cell_type": "code",
   "execution_count": 67,
   "id": "51e99460-0847-4fd3-b547-d9f9fd122e40",
   "metadata": {},
   "outputs": [
    {
     "name": "stdout",
     "output_type": "stream",
     "text": [
      "sudh sudh@gmail.com 974913423\n"
     ]
    }
   ],
   "source": [
    "pw.student_details('sudh', 'sudh@gmail.com', 974913423)"
   ]
  },
  {
   "cell_type": "code",
   "execution_count": 68,
   "id": "cbb6c336-8af9-4929-8c22-31097ee4e0c5",
   "metadata": {},
   "outputs": [],
   "source": [
    "class pwskills1:\n",
    "    \n",
    "    def student_details(self, name, email, phone):\n",
    "        print(name, email, phone)\n",
    "        \n",
    "    @staticmethod\n",
    "    def mentor_class(list_of_mentor):  # this is a good way by use static method\n",
    "        print(list_of_mentor)\n",
    "        \n",
    "    def mentor(self, mentor_list):  #this is not prefer way\n",
    "        print(mentor_list)\n",
    "        \n",
    "    "
   ]
  },
  {
   "cell_type": "code",
   "execution_count": 69,
   "id": "9d8ff406-f69a-4789-b98d-27db6c952031",
   "metadata": {},
   "outputs": [
    {
     "name": "stdout",
     "output_type": "stream",
     "text": [
      "['rohit', 'krish']\n"
     ]
    }
   ],
   "source": [
    "pwskills1.mentor_class(['rohit','krish'])"
   ]
  },
  {
   "cell_type": "code",
   "execution_count": 70,
   "id": "346c570b-753e-4695-9d12-50619c75eb16",
   "metadata": {},
   "outputs": [],
   "source": [
    "stu1 = pwskills1()"
   ]
  },
  {
   "cell_type": "code",
   "execution_count": 71,
   "id": "917a98d0-e32e-4433-8d44-8b9f13108f03",
   "metadata": {},
   "outputs": [],
   "source": [
    "stu2 = pwskills1()"
   ]
  },
  {
   "cell_type": "code",
   "execution_count": 72,
   "id": "28ca393b-5b44-46df-8604-15bd817ff441",
   "metadata": {},
   "outputs": [
    {
     "name": "stdout",
     "output_type": "stream",
     "text": [
      "['rohit', 'mohit']\n"
     ]
    }
   ],
   "source": [
    "stu1.mentor(['rohit','mohit'])"
   ]
  },
  {
   "cell_type": "code",
   "execution_count": 73,
   "id": "52be4466-916a-4cbd-ae2b-b3fb9fed61d1",
   "metadata": {},
   "outputs": [],
   "source": [
    "class pwskills2:\n",
    "    \n",
    "    def student_details(self, name, email, phone):\n",
    "        print(name, email, phone)\n",
    "        \n",
    "    @staticmethod\n",
    "    def mentor_mail_id(mail_id):\n",
    "        print(mail_id)\n",
    "        \n",
    "    @staticmethod\n",
    "    def mentor_class(list_of_mentor):\n",
    "        \n",
    "        pwskills2.mentor_mail_id(['roh@gmail.com','sudh@gmail.com'])\n",
    "        # this is a good way by use static method\n",
    "        print(list_of_mentor)\n",
    "    \n",
    "    @classmethod\n",
    "    def class_name(cls):\n",
    "        cls.mentor_class(['rohit','mohit'])\n",
    "        \n",
    "    def mentor(self, mentor_list):  #this is not prefer way\n",
    "        print(mentor_list)\n",
    "        self.mentor_class(['rohit','mohit'])\n",
    "        \n",
    "        "
   ]
  },
  {
   "cell_type": "code",
   "execution_count": 74,
   "id": "1dcadf2d-e231-4ddd-a9f7-7f1c2708040f",
   "metadata": {},
   "outputs": [
    {
     "name": "stdout",
     "output_type": "stream",
     "text": [
      "['roh@gmail.com', 'sudh@gmail.com']\n",
      "['rohit', 'mohit']\n"
     ]
    }
   ],
   "source": [
    "pwskills2.class_name()"
   ]
  },
  {
   "cell_type": "code",
   "execution_count": 75,
   "id": "dfe6f890-b170-44bd-8f9a-04e00aa95a3f",
   "metadata": {},
   "outputs": [
    {
     "name": "stdout",
     "output_type": "stream",
     "text": [
      "['roh@gmail.com', 'sudh@gmail.com']\n",
      "['rohit', 'mohit']\n"
     ]
    }
   ],
   "source": [
    "pwskills2.mentor_class(['rohit','mohit'])"
   ]
  },
  {
   "cell_type": "code",
   "execution_count": 76,
   "id": "0d77b51f-7574-4b9b-9dab-8a14ae92c7fd",
   "metadata": {},
   "outputs": [],
   "source": [
    "pw = pwskills2()"
   ]
  },
  {
   "cell_type": "code",
   "execution_count": 78,
   "id": "72fa69dd-09fd-43e0-a9d2-e44283077cb6",
   "metadata": {},
   "outputs": [
    {
     "name": "stdout",
     "output_type": "stream",
     "text": [
      "['rohit', 'mohit']\n",
      "['roh@gmail.com', 'sudh@gmail.com']\n",
      "['rohit', 'mohit']\n"
     ]
    }
   ],
   "source": [
    "pw.mentor(['rohit','mohit'])"
   ]
  },
  {
   "cell_type": "code",
   "execution_count": null,
   "id": "b0032fbf-d1c2-4502-a827-27b05c7aad37",
   "metadata": {},
   "outputs": [],
   "source": [
    "#Special Method (Magic or Dunder)"
   ]
  },
  {
   "cell_type": "code",
   "execution_count": 79,
   "id": "dec4d43d-fdad-4718-8a17-a59b1be57a05",
   "metadata": {},
   "outputs": [
    {
     "data": {
      "text/plain": [
       "['__abs__',\n",
       " '__add__',\n",
       " '__and__',\n",
       " '__bool__',\n",
       " '__ceil__',\n",
       " '__class__',\n",
       " '__delattr__',\n",
       " '__dir__',\n",
       " '__divmod__',\n",
       " '__doc__',\n",
       " '__eq__',\n",
       " '__float__',\n",
       " '__floor__',\n",
       " '__floordiv__',\n",
       " '__format__',\n",
       " '__ge__',\n",
       " '__getattribute__',\n",
       " '__getnewargs__',\n",
       " '__gt__',\n",
       " '__hash__',\n",
       " '__index__',\n",
       " '__init__',\n",
       " '__init_subclass__',\n",
       " '__int__',\n",
       " '__invert__',\n",
       " '__le__',\n",
       " '__lshift__',\n",
       " '__lt__',\n",
       " '__mod__',\n",
       " '__mul__',\n",
       " '__ne__',\n",
       " '__neg__',\n",
       " '__new__',\n",
       " '__or__',\n",
       " '__pos__',\n",
       " '__pow__',\n",
       " '__radd__',\n",
       " '__rand__',\n",
       " '__rdivmod__',\n",
       " '__reduce__',\n",
       " '__reduce_ex__',\n",
       " '__repr__',\n",
       " '__rfloordiv__',\n",
       " '__rlshift__',\n",
       " '__rmod__',\n",
       " '__rmul__',\n",
       " '__ror__',\n",
       " '__round__',\n",
       " '__rpow__',\n",
       " '__rrshift__',\n",
       " '__rshift__',\n",
       " '__rsub__',\n",
       " '__rtruediv__',\n",
       " '__rxor__',\n",
       " '__setattr__',\n",
       " '__sizeof__',\n",
       " '__str__',\n",
       " '__sub__',\n",
       " '__subclasshook__',\n",
       " '__truediv__',\n",
       " '__trunc__',\n",
       " '__xor__',\n",
       " 'as_integer_ratio',\n",
       " 'bit_count',\n",
       " 'bit_length',\n",
       " 'conjugate',\n",
       " 'denominator',\n",
       " 'from_bytes',\n",
       " 'imag',\n",
       " 'numerator',\n",
       " 'real',\n",
       " 'to_bytes']"
      ]
     },
     "execution_count": 79,
     "metadata": {},
     "output_type": "execute_result"
    }
   ],
   "source": [
    "dir(int)"
   ]
  },
  {
   "cell_type": "code",
   "execution_count": 80,
   "id": "a00a104d-7da6-4112-8a08-1b6bad37100d",
   "metadata": {},
   "outputs": [
    {
     "data": {
      "text/plain": [
       "['__add__',\n",
       " '__class__',\n",
       " '__contains__',\n",
       " '__delattr__',\n",
       " '__dir__',\n",
       " '__doc__',\n",
       " '__eq__',\n",
       " '__format__',\n",
       " '__ge__',\n",
       " '__getattribute__',\n",
       " '__getitem__',\n",
       " '__getnewargs__',\n",
       " '__gt__',\n",
       " '__hash__',\n",
       " '__init__',\n",
       " '__init_subclass__',\n",
       " '__iter__',\n",
       " '__le__',\n",
       " '__len__',\n",
       " '__lt__',\n",
       " '__mod__',\n",
       " '__mul__',\n",
       " '__ne__',\n",
       " '__new__',\n",
       " '__reduce__',\n",
       " '__reduce_ex__',\n",
       " '__repr__',\n",
       " '__rmod__',\n",
       " '__rmul__',\n",
       " '__setattr__',\n",
       " '__sizeof__',\n",
       " '__str__',\n",
       " '__subclasshook__',\n",
       " 'capitalize',\n",
       " 'casefold',\n",
       " 'center',\n",
       " 'count',\n",
       " 'encode',\n",
       " 'endswith',\n",
       " 'expandtabs',\n",
       " 'find',\n",
       " 'format',\n",
       " 'format_map',\n",
       " 'index',\n",
       " 'isalnum',\n",
       " 'isalpha',\n",
       " 'isascii',\n",
       " 'isdecimal',\n",
       " 'isdigit',\n",
       " 'isidentifier',\n",
       " 'islower',\n",
       " 'isnumeric',\n",
       " 'isprintable',\n",
       " 'isspace',\n",
       " 'istitle',\n",
       " 'isupper',\n",
       " 'join',\n",
       " 'ljust',\n",
       " 'lower',\n",
       " 'lstrip',\n",
       " 'maketrans',\n",
       " 'partition',\n",
       " 'removeprefix',\n",
       " 'removesuffix',\n",
       " 'replace',\n",
       " 'rfind',\n",
       " 'rindex',\n",
       " 'rjust',\n",
       " 'rpartition',\n",
       " 'rsplit',\n",
       " 'rstrip',\n",
       " 'split',\n",
       " 'splitlines',\n",
       " 'startswith',\n",
       " 'strip',\n",
       " 'swapcase',\n",
       " 'title',\n",
       " 'translate',\n",
       " 'upper',\n",
       " 'zfill']"
      ]
     },
     "execution_count": 80,
     "metadata": {},
     "output_type": "execute_result"
    }
   ],
   "source": [
    "dir(str)"
   ]
  },
  {
   "cell_type": "code",
   "execution_count": null,
   "id": "a2483699-0a18-4dcf-9c41-70d90aa1981f",
   "metadata": {},
   "outputs": [],
   "source": [
    "#these are magic function or dunder function"
   ]
  },
  {
   "cell_type": "code",
   "execution_count": 81,
   "id": "c8505cd3-1f8f-4800-90fa-92cdfbd979ab",
   "metadata": {},
   "outputs": [],
   "source": [
    "a = 100"
   ]
  },
  {
   "cell_type": "code",
   "execution_count": 82,
   "id": "c35433e0-3456-4cfd-b54c-d8faa6cd0d84",
   "metadata": {},
   "outputs": [
    {
     "data": {
      "text/plain": [
       "105"
      ]
     },
     "execution_count": 82,
     "metadata": {},
     "output_type": "execute_result"
    }
   ],
   "source": [
    "a+5"
   ]
  },
  {
   "cell_type": "code",
   "execution_count": 83,
   "id": "a33f005a-4c24-4d0d-bbaa-eb2c3c6861aa",
   "metadata": {},
   "outputs": [
    {
     "data": {
      "text/plain": [
       "105"
      ]
     },
     "execution_count": 83,
     "metadata": {},
     "output_type": "execute_result"
    }
   ],
   "source": [
    "a.__add__(5)  "
   ]
  },
  {
   "cell_type": "code",
   "execution_count": 87,
   "id": "f3684f5a-739c-4836-bdff-4fdc0f5d2878",
   "metadata": {},
   "outputs": [],
   "source": [
    "class pwskills:\n",
    "    \n",
    "    def __new__(cls):   # new help to create a in term of objects\n",
    "        print(\"this is my new\")\n",
    "        \n",
    "    \n",
    "    def __init__(self):\n",
    "        print(\"THis is my init\")\n",
    "        self.mobile_number = 98863764"
   ]
  },
  {
   "cell_type": "code",
   "execution_count": 88,
   "id": "98b4eae7-9e25-46a0-875f-7d4aac02f8ad",
   "metadata": {},
   "outputs": [
    {
     "name": "stdout",
     "output_type": "stream",
     "text": [
      "this is my new\n"
     ]
    }
   ],
   "source": [
    "pw = pwskills()"
   ]
  },
  {
   "cell_type": "code",
   "execution_count": 86,
   "id": "82b4c85d-9954-4fca-92b2-17189797f5c1",
   "metadata": {},
   "outputs": [
    {
     "data": {
      "text/plain": [
       "98863764"
      ]
     },
     "execution_count": 86,
     "metadata": {},
     "output_type": "execute_result"
    }
   ],
   "source": [
    "pw.mobile_number"
   ]
  },
  {
   "cell_type": "code",
   "execution_count": 92,
   "id": "bb75f0d5-4c80-497e-bade-6c00d32e96e9",
   "metadata": {},
   "outputs": [],
   "source": [
    "class pwskills1:\n",
    "    \n",
    "    \n",
    "        \n",
    "    \n",
    "    def __init__(self):\n",
    "        self.mobile_number = 98863764\n",
    "        \n",
    "    def __str__(self):\n",
    "        return \"this is my magical call of str\""
   ]
  },
  {
   "cell_type": "code",
   "execution_count": 93,
   "id": "49932412-0e56-4436-9563-e03156efac3f",
   "metadata": {},
   "outputs": [],
   "source": [
    "pw1 = pwskills1()"
   ]
  },
  {
   "cell_type": "code",
   "execution_count": 95,
   "id": "b0bc547e-2f17-4417-9b85-647407a67517",
   "metadata": {},
   "outputs": [
    {
     "data": {
      "text/plain": [
       "<__main__.pwskills1 at 0x7feee8129c00>"
      ]
     },
     "execution_count": 95,
     "metadata": {},
     "output_type": "execute_result"
    }
   ],
   "source": [
    "pw1"
   ]
  },
  {
   "cell_type": "code",
   "execution_count": 96,
   "id": "4a805ab5-b875-48cd-b6dd-03b92aaaa673",
   "metadata": {},
   "outputs": [
    {
     "name": "stdout",
     "output_type": "stream",
     "text": [
      "this is my magical call of str\n"
     ]
    }
   ],
   "source": [
    "print(pw1)\n",
    "\n",
    "# magic and dunder function are not use in general system calls internally these function. In general try to avoid these function use"
   ]
  },
  {
   "cell_type": "code",
   "execution_count": null,
   "id": "80ef4474-b162-45dc-b65c-9b689b340430",
   "metadata": {},
   "outputs": [],
   "source": [
    "#property Decorators - Getter, setter, delete"
   ]
  },
  {
   "cell_type": "code",
   "execution_count": 1,
   "id": "5ef103f0-dac0-4fb8-8433-bb475ba653d3",
   "metadata": {},
   "outputs": [],
   "source": [
    "class pwskills:\n",
    "    \n",
    "    def __init__(self, course_price, course_name):\n",
    "        \n",
    "        self.__course_price = course_price\n",
    "        self.course_name = course_name\n",
    "        \n",
    "    @property   # for access the private element\n",
    "    def course_price_access(self):\n",
    "        return self.__course_price\n",
    "    \n",
    "    \n",
    "    @course_price_access.setter\n",
    "    def course_price_set(self, price):\n",
    "        if price <= 3500:\n",
    "            pass\n",
    "        else:\n",
    "            self.__course_price = price\n",
    "            \n",
    "    @course_price_access.deleter\n",
    "    def delete_course_price(self):\n",
    "        del self.__course_price\n",
    "        \n",
    "    "
   ]
  },
  {
   "cell_type": "code",
   "execution_count": 2,
   "id": "36390c86-c7b3-4a6e-bcb0-12050e0e7596",
   "metadata": {},
   "outputs": [],
   "source": [
    "pw = pwskills(3500, 'data science masters')"
   ]
  },
  {
   "cell_type": "code",
   "execution_count": 3,
   "id": "14ac8dbc-b40c-4987-9a4a-d0526d94cbe4",
   "metadata": {},
   "outputs": [
    {
     "data": {
      "text/plain": [
       "3500"
      ]
     },
     "execution_count": 3,
     "metadata": {},
     "output_type": "execute_result"
    }
   ],
   "source": [
    "pw._pwskills__course_price"
   ]
  },
  {
   "cell_type": "code",
   "execution_count": 4,
   "id": "8f3b9bbd-a2d4-433a-be65-b28aad817e60",
   "metadata": {},
   "outputs": [
    {
     "data": {
      "text/plain": [
       "'data science masters'"
      ]
     },
     "execution_count": 4,
     "metadata": {},
     "output_type": "execute_result"
    }
   ],
   "source": [
    "pw.course_name"
   ]
  },
  {
   "cell_type": "code",
   "execution_count": 5,
   "id": "3d245c44-da67-4504-a86c-781a75e31b55",
   "metadata": {},
   "outputs": [
    {
     "data": {
      "text/plain": [
       "3500"
      ]
     },
     "execution_count": 5,
     "metadata": {},
     "output_type": "execute_result"
    }
   ],
   "source": [
    "pw.course_price_access"
   ]
  },
  {
   "cell_type": "code",
   "execution_count": 6,
   "id": "cb52a063-4c09-4547-8ee8-a768ea86dcbb",
   "metadata": {},
   "outputs": [],
   "source": [
    "pw.course_price_set = 4500"
   ]
  },
  {
   "cell_type": "code",
   "execution_count": 7,
   "id": "86abebe4-97ea-4115-8f53-00dfe9506ac4",
   "metadata": {},
   "outputs": [],
   "source": [
    "del pw.delete_course_price  # for deleting the function"
   ]
  },
  {
   "cell_type": "code",
   "execution_count": 8,
   "id": "85db3b9b-c37b-4ade-8a04-0115642e3451",
   "metadata": {},
   "outputs": [
    {
     "ename": "AttributeError",
     "evalue": "'pwskills' object has no attribute '_pwskills__course_price'",
     "output_type": "error",
     "traceback": [
      "\u001b[0;31m---------------------------------------------------------------------------\u001b[0m",
      "\u001b[0;31mAttributeError\u001b[0m                            Traceback (most recent call last)",
      "Cell \u001b[0;32mIn[8], line 1\u001b[0m\n\u001b[0;32m----> 1\u001b[0m \u001b[43mpw\u001b[49m\u001b[38;5;241;43m.\u001b[39;49m\u001b[43mcourse_price_access\u001b[49m\n",
      "Cell \u001b[0;32mIn[1], line 11\u001b[0m, in \u001b[0;36mpwskills.course_price_access\u001b[0;34m(self)\u001b[0m\n\u001b[1;32m      8\u001b[0m \u001b[38;5;129m@property\u001b[39m   \u001b[38;5;66;03m# for access the private element\u001b[39;00m\n\u001b[1;32m      9\u001b[0m \n\u001b[1;32m     10\u001b[0m \u001b[38;5;28;01mdef\u001b[39;00m \u001b[38;5;21mcourse_price_access\u001b[39m(\u001b[38;5;28mself\u001b[39m):\n\u001b[0;32m---> 11\u001b[0m     \u001b[38;5;28;01mreturn\u001b[39;00m \u001b[38;5;28;43mself\u001b[39;49m\u001b[38;5;241;43m.\u001b[39;49m\u001b[43m__course_price\u001b[49m\n",
      "\u001b[0;31mAttributeError\u001b[0m: 'pwskills' object has no attribute '_pwskills__course_price'"
     ]
    }
   ],
   "source": [
    "pw.course_price_access"
   ]
  },
  {
   "cell_type": "code",
   "execution_count": null,
   "id": "8d6aafdc-5546-46b8-96a0-5c7bbf7f7168",
   "metadata": {},
   "outputs": [],
   "source": []
  }
 ],
 "metadata": {
  "kernelspec": {
   "display_name": "Python 3 (ipykernel)",
   "language": "python",
   "name": "python3"
  },
  "language_info": {
   "codemirror_mode": {
    "name": "ipython",
    "version": 3
   },
   "file_extension": ".py",
   "mimetype": "text/x-python",
   "name": "python",
   "nbconvert_exporter": "python",
   "pygments_lexer": "ipython3",
   "version": "3.10.8"
  }
 },
 "nbformat": 4,
 "nbformat_minor": 5
}
