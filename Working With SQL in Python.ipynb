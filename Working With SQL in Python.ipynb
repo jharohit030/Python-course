{
 "cells": [
  {
   "cell_type": "code",
   "execution_count": 1,
   "id": "eb6f205b",
   "metadata": {},
   "outputs": [],
   "source": [
    "import mysql.connector  #import the conncector"
   ]
  },
  {
   "cell_type": "code",
   "execution_count": 3,
   "id": "7474871f",
   "metadata": {},
   "outputs": [],
   "source": [
    "mydb = mysql.connector.connect(  #provide the credential of database\n",
    "   host='localhost',\n",
    "   user ='root',\n",
    "   password = 'Rohit@2002'\n",
    ")"
   ]
  },
  {
   "cell_type": "code",
   "execution_count": 4,
   "id": "9ebd4bbc",
   "metadata": {},
   "outputs": [
    {
     "name": "stdout",
     "output_type": "stream",
     "text": [
      "<mysql.connector.connection_cext.CMySQLConnection object at 0x000002AC0185B1C0>\n"
     ]
    }
   ],
   "source": [
    "print(mydb)"
   ]
  },
  {
   "cell_type": "code",
   "execution_count": 11,
   "id": "31375085",
   "metadata": {},
   "outputs": [
    {
     "ename": "OperationalError",
     "evalue": "MySQL Connection not available.",
     "output_type": "error",
     "traceback": [
      "\u001b[1;31m---------------------------------------------------------------------------\u001b[0m",
      "\u001b[1;31mOperationalError\u001b[0m                          Traceback (most recent call last)",
      "Cell \u001b[1;32mIn[11], line 1\u001b[0m\n\u001b[1;32m----> 1\u001b[0m mycursor \u001b[38;5;241m=\u001b[39m \u001b[43mmydb\u001b[49m\u001b[38;5;241;43m.\u001b[39;49m\u001b[43mcursor\u001b[49m\u001b[43m(\u001b[49m\u001b[43m)\u001b[49m\n",
      "File \u001b[1;32m~\\anaconda3\\lib\\site-packages\\mysql\\connector\\connection_cext.py:675\u001b[0m, in \u001b[0;36mCMySQLConnection.cursor\u001b[1;34m(self, buffered, raw, prepared, cursor_class, dictionary, named_tuple)\u001b[0m\n\u001b[0;32m    673\u001b[0m \u001b[38;5;28mself\u001b[39m\u001b[38;5;241m.\u001b[39mhandle_unread_result(prepared)\n\u001b[0;32m    674\u001b[0m \u001b[38;5;28;01mif\u001b[39;00m \u001b[38;5;129;01mnot\u001b[39;00m \u001b[38;5;28mself\u001b[39m\u001b[38;5;241m.\u001b[39mis_connected():\n\u001b[1;32m--> 675\u001b[0m     \u001b[38;5;28;01mraise\u001b[39;00m OperationalError(\u001b[38;5;124m\"\u001b[39m\u001b[38;5;124mMySQL Connection not available.\u001b[39m\u001b[38;5;124m\"\u001b[39m)\n\u001b[0;32m    676\u001b[0m \u001b[38;5;28;01mif\u001b[39;00m cursor_class \u001b[38;5;129;01mis\u001b[39;00m \u001b[38;5;129;01mnot\u001b[39;00m \u001b[38;5;28;01mNone\u001b[39;00m:\n\u001b[0;32m    677\u001b[0m     \u001b[38;5;28;01mif\u001b[39;00m \u001b[38;5;129;01mnot\u001b[39;00m \u001b[38;5;28missubclass\u001b[39m(cursor_class, CMySQLCursor):\n",
      "\u001b[1;31mOperationalError\u001b[0m: MySQL Connection not available."
     ]
    }
   ],
   "source": [
    "mycursor = mydb.cursor()  # create cursor for reading database one by one"
   ]
  },
  {
   "cell_type": "code",
   "execution_count": 15,
   "id": "5625b0c9",
   "metadata": {},
   "outputs": [],
   "source": [
    "mycursor.execute(\"SHOW DATABASES\")"
   ]
  },
  {
   "cell_type": "code",
   "execution_count": 16,
   "id": "7b458dd2",
   "metadata": {},
   "outputs": [
    {
     "name": "stdout",
     "output_type": "stream",
     "text": [
      "('information_schema',)\n",
      "('mysql',)\n",
      "('performance_schema',)\n",
      "('sakila',)\n",
      "('sys',)\n",
      "('test',)\n",
      "('world',)\n"
     ]
    }
   ],
   "source": [
    "for x in mycursor:\n",
    "    print(x)"
   ]
  },
  {
   "cell_type": "code",
   "execution_count": 23,
   "id": "774fe54c",
   "metadata": {},
   "outputs": [],
   "source": [
    "#create a database in python\n",
    "\n",
    "import mysql.connector\n",
    "\n",
    "mydb = mysql.connector.connect(\n",
    "  host = 'localhost',\n",
    "  user = 'root',\n",
    "  password = 'Rohit@2002'\n",
    ")\n",
    "mycursor = mydb.cursor()\n",
    "mycursor.execute(\"CREATE DATABASE if not exists test\")\n"
   ]
  },
  {
   "cell_type": "code",
   "execution_count": 24,
   "id": "54b53d9c",
   "metadata": {},
   "outputs": [],
   "source": [
    "mycursor.execute(\"CREATE TABLE if not exists test.test_table(c1 INT, c2 VARCHAR(20),c3 FLOAT, c4 INT)\")"
   ]
  },
  {
   "cell_type": "code",
   "execution_count": 26,
   "id": "973a6665",
   "metadata": {},
   "outputs": [],
   "source": [
    "mydb.commit()"
   ]
  },
  {
   "cell_type": "code",
   "execution_count": 31,
   "id": "3c2d6f98",
   "metadata": {},
   "outputs": [],
   "source": [
    "mycursor.execute(\"insert into test.test_table values(101, 'Rohit',7.69, 12006664)\")\n",
    "mycursor.execute(\"insert into test.test_table values(102, 'Rohit',7.69, 12006664)\")\n",
    "mycursor.execute(\"insert into test.test_table values(103, 'Rohit',7.69, 12006664)\")\n",
    "mycursor.execute(\"insert into test.test_table values(104, 'Rohit',7.69, 12006664)\")\n",
    "mycursor.execute(\"insert into test.test_table values(105, 'Rohit',7.69, 12006664)\")\n",
    "mycursor.execute(\"insert into test.test_table values(106, 'Rohit',7.69, 12006664)\")"
   ]
  },
  {
   "cell_type": "code",
   "execution_count": null,
   "id": "80143597",
   "metadata": {},
   "outputs": [],
   "source": []
  },
  {
   "cell_type": "code",
   "execution_count": null,
   "id": "0750163e",
   "metadata": {},
   "outputs": [],
   "source": []
  },
  {
   "cell_type": "code",
   "execution_count": 32,
   "id": "e8111f5c",
   "metadata": {},
   "outputs": [],
   "source": [
    "mycursor.execute('select * from test.test_table') # for choosing the table in database"
   ]
  },
  {
   "cell_type": "code",
   "execution_count": 35,
   "id": "d05c44a2",
   "metadata": {},
   "outputs": [
    {
     "name": "stdout",
     "output_type": "stream",
     "text": [
      "(101, 12006664)\n",
      "(101, 12006664)\n",
      "(101, 12006664)\n",
      "(102, 12006664)\n",
      "(103, 12006664)\n",
      "(104, 12006664)\n",
      "(105, 12006664)\n",
      "(106, 12006664)\n"
     ]
    }
   ],
   "source": [
    "for i in mycursor.fetchall():  # for fetching all value in database\n",
    "    print(i)"
   ]
  },
  {
   "cell_type": "code",
   "execution_count": null,
   "id": "f4ea3fcb",
   "metadata": {},
   "outputs": [],
   "source": [
    "mydb.close()  #for closing the database"
   ]
  },
  {
   "cell_type": "code",
   "execution_count": 34,
   "id": "7c0309b8",
   "metadata": {},
   "outputs": [],
   "source": [
    "mycursor.execute('select c1, c4 from test.test_table')"
   ]
  },
  {
   "cell_type": "code",
   "execution_count": null,
   "id": "7750cef5",
   "metadata": {},
   "outputs": [],
   "source": []
  }
 ],
 "metadata": {
  "kernelspec": {
   "display_name": "Python 3 (ipykernel)",
   "language": "python",
   "name": "python3"
  },
  "language_info": {
   "codemirror_mode": {
    "name": "ipython",
    "version": 3
   },
   "file_extension": ".py",
   "mimetype": "text/x-python",
   "name": "python",
   "nbconvert_exporter": "python",
   "pygments_lexer": "ipython3",
   "version": "3.10.9"
  }
 },
 "nbformat": 4,
 "nbformat_minor": 5
}
