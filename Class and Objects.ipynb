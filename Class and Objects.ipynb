{
 "cells": [
  {
   "cell_type": "code",
   "execution_count": null,
   "id": "ae91aebe-a226-40ce-87e8-a60bbaf63de1",
   "metadata": {},
   "outputs": [],
   "source": [
    "#Oops stand for Object-Oriented Programming System"
   ]
  },
  {
   "cell_type": "code",
   "execution_count": 1,
   "id": "40168ada-b165-4ce7-a0ae-e381aec6fdf4",
   "metadata": {},
   "outputs": [
    {
     "name": "stdout",
     "output_type": "stream",
     "text": [
      "<class 'int'>\n"
     ]
    }
   ],
   "source": [
    "a = 1\n",
    "print(type(a))"
   ]
  },
  {
   "cell_type": "code",
   "execution_count": 2,
   "id": "add8e8dd-1cbd-4c1a-a212-ad8922ff58d6",
   "metadata": {},
   "outputs": [
    {
     "name": "stdout",
     "output_type": "stream",
     "text": [
      "<class 'str'>\n"
     ]
    }
   ],
   "source": [
    "print(type('pwskills'))"
   ]
  },
  {
   "cell_type": "code",
   "execution_count": null,
   "id": "ce69260f-c5fc-4b9c-a560-7f0983b83de5",
   "metadata": {},
   "outputs": [],
   "source": [
    "# class is classification or blueprint of the real world entity but not specific to the real world"
   ]
  },
  {
   "cell_type": "code",
   "execution_count": null,
   "id": "053a1a1e-4712-4c00-8e56-958066639fa6",
   "metadata": {},
   "outputs": [],
   "source": [
    "# object is instance of class"
   ]
  },
  {
   "cell_type": "code",
   "execution_count": 3,
   "id": "a4d80a66-6d76-4c48-aad6-27d2fbb010de",
   "metadata": {},
   "outputs": [],
   "source": [
    "class test:\n",
    "    pass"
   ]
  },
  {
   "cell_type": "code",
   "execution_count": 4,
   "id": "fb5df32b-5f86-4557-a711-006f6b78703a",
   "metadata": {},
   "outputs": [],
   "source": [
    "a = test()"
   ]
  },
  {
   "cell_type": "code",
   "execution_count": 5,
   "id": "394da53c-4fd4-444b-bd09-a279da730b8b",
   "metadata": {},
   "outputs": [
    {
     "data": {
      "text/plain": [
       "__main__.test"
      ]
     },
     "execution_count": 5,
     "metadata": {},
     "output_type": "execute_result"
    }
   ],
   "source": [
    "type(a)"
   ]
  },
  {
   "cell_type": "code",
   "execution_count": 6,
   "id": "b2e2992e-2f8e-4b85-b382-4632e4d12bb7",
   "metadata": {},
   "outputs": [
    {
     "name": "stdout",
     "output_type": "stream",
     "text": [
      "<class '__main__.test'>\n"
     ]
    }
   ],
   "source": [
    "print(type(a))"
   ]
  },
  {
   "cell_type": "code",
   "execution_count": 11,
   "id": "3374c7a1-faa6-49eb-87e8-2315396e2de1",
   "metadata": {},
   "outputs": [],
   "source": [
    "class pwskills:\n",
    "    def welcome_msg(self):  # self used for binding class to the method or function\n",
    "        print(\"welcome to pwkills\")"
   ]
  },
  {
   "cell_type": "code",
   "execution_count": 12,
   "id": "24d367e6-30a6-4ec1-8d6b-a26837551304",
   "metadata": {},
   "outputs": [],
   "source": [
    "rohan = pwskills()"
   ]
  },
  {
   "cell_type": "code",
   "execution_count": 13,
   "id": "6ab4cf59-a432-4893-a82d-e4280c74108f",
   "metadata": {},
   "outputs": [
    {
     "name": "stdout",
     "output_type": "stream",
     "text": [
      "<class '__main__.pwskills'>\n"
     ]
    }
   ],
   "source": [
    "print(type(rohan))"
   ]
  },
  {
   "cell_type": "code",
   "execution_count": 14,
   "id": "730c72c9-3c6b-4800-a2d5-741f754e54da",
   "metadata": {},
   "outputs": [
    {
     "name": "stdout",
     "output_type": "stream",
     "text": [
      "welcome to pwkills\n"
     ]
    }
   ],
   "source": [
    "rohan.welcome_msg()"
   ]
  },
  {
   "cell_type": "code",
   "execution_count": 15,
   "id": "bd39ee5f-70ec-4256-b1cb-ea2e25fee1d4",
   "metadata": {},
   "outputs": [
    {
     "name": "stdout",
     "output_type": "stream",
     "text": [
      "welcome to pwkills\n"
     ]
    }
   ],
   "source": [
    "gaurav = pwskills()\n",
    "gaurav.welcome_msg()"
   ]
  },
  {
   "cell_type": "code",
   "execution_count": 16,
   "id": "38284ad7-2701-470d-9d09-7c0571e488fb",
   "metadata": {},
   "outputs": [],
   "source": [
    "class pwskills1:\n",
    "    \n",
    "    def __init__(self, name, s_id, email_id): #constructor of class\n",
    "        self.name = name\n",
    "        self.s_id = s_id\n",
    "        self.email_id = email_id\n",
    "    \n",
    "    def return_student_details(self):\n",
    "        return self.name, self.s_id, self.email_id"
   ]
  },
  {
   "cell_type": "code",
   "execution_count": 19,
   "id": "4a4fc652-379d-41df-b200-ee650bc4d39f",
   "metadata": {},
   "outputs": [],
   "source": [
    "rohan = pwskills1('Rohan',101,'rohan@gmail.com')"
   ]
  },
  {
   "cell_type": "code",
   "execution_count": 21,
   "id": "9d5d8814-449d-439a-b539-f83f9a43281c",
   "metadata": {},
   "outputs": [
    {
     "data": {
      "text/plain": [
       "('Rohan', 101, 'rohan@gmail.com')"
      ]
     },
     "execution_count": 21,
     "metadata": {},
     "output_type": "execute_result"
    }
   ],
   "source": [
    "rohan.return_student_details()"
   ]
  },
  {
   "cell_type": "code",
   "execution_count": 24,
   "id": "cabff5a7-facd-4b92-87e6-e23f321cad46",
   "metadata": {},
   "outputs": [],
   "source": [
    "rohit = pwskills1('ROhit',102,'rohit@gmail.com')"
   ]
  },
  {
   "cell_type": "code",
   "execution_count": 25,
   "id": "70ae1d2c-f776-4c85-9a18-6ad7c24a19d5",
   "metadata": {},
   "outputs": [
    {
     "data": {
      "text/plain": [
       "('ROhit', 102, 'rohit@gmail.com')"
      ]
     },
     "execution_count": 25,
     "metadata": {},
     "output_type": "execute_result"
    }
   ],
   "source": [
    "rohit.return_student_details()"
   ]
  },
  {
   "cell_type": "code",
   "execution_count": 27,
   "id": "84e5eb09-42a3-49d0-b62b-9c5bf7030712",
   "metadata": {},
   "outputs": [
    {
     "data": {
      "text/plain": [
       "'ROhit'"
      ]
     },
     "execution_count": 27,
     "metadata": {},
     "output_type": "execute_result"
    }
   ],
   "source": [
    "rohit.name"
   ]
  },
  {
   "cell_type": "code",
   "execution_count": 28,
   "id": "ed78fd6c-6282-4ddf-afbd-c0bfd5e36beb",
   "metadata": {},
   "outputs": [],
   "source": [
    "class pwskills1:\n",
    "    \n",
    "    def __init__(roh, name, s_id, email_id): #constructor of class\n",
    "        roh.name = name\n",
    "        roh.s_id = s_id\n",
    "        roh.email_id = email_id\n",
    "    \n",
    "    def return_student_details(roh):\n",
    "        return roh.name, roh.s_id, roh.email_id"
   ]
  },
  {
   "cell_type": "code",
   "execution_count": 29,
   "id": "8e1f604c-76e9-49c2-81dc-913f9b2925ba",
   "metadata": {},
   "outputs": [],
   "source": [
    "mohit = pwskills1('mohit',103,'mohit@gmail.com')"
   ]
  },
  {
   "cell_type": "code",
   "execution_count": 30,
   "id": "903a57c7-17a4-445a-a871-af1ff47478f0",
   "metadata": {},
   "outputs": [
    {
     "data": {
      "text/plain": [
       "('mohit', 103, 'mohit@gmail.com')"
      ]
     },
     "execution_count": 30,
     "metadata": {},
     "output_type": "execute_result"
    }
   ],
   "source": [
    "mohit.return_student_details()"
   ]
  },
  {
   "cell_type": "code",
   "execution_count": 31,
   "id": "a03cbbbc-954e-4f29-9689-3244cbcb1881",
   "metadata": {},
   "outputs": [
    {
     "data": {
      "text/plain": [
       "'mohit'"
      ]
     },
     "execution_count": 31,
     "metadata": {},
     "output_type": "execute_result"
    }
   ],
   "source": [
    "mohit.name"
   ]
  },
  {
   "cell_type": "code",
   "execution_count": 32,
   "id": "5f4fdefb-3a26-42b1-ac52-bc9553025e38",
   "metadata": {},
   "outputs": [
    {
     "data": {
      "text/plain": [
       "'mohit@gmail.com'"
      ]
     },
     "execution_count": 32,
     "metadata": {},
     "output_type": "execute_result"
    }
   ],
   "source": [
    "mohit.email_id"
   ]
  },
  {
   "cell_type": "code",
   "execution_count": 33,
   "id": "7b029d72-f963-4ead-8e69-83b24d7ce444",
   "metadata": {},
   "outputs": [
    {
     "data": {
      "text/plain": [
       "103"
      ]
     },
     "execution_count": 33,
     "metadata": {},
     "output_type": "execute_result"
    }
   ],
   "source": [
    "mohit.s_id"
   ]
  },
  {
   "cell_type": "code",
   "execution_count": null,
   "id": "82b4e2e1-1d72-4a4d-9f28-4549bee77621",
   "metadata": {},
   "outputs": [],
   "source": []
  }
 ],
 "metadata": {
  "kernelspec": {
   "display_name": "Python 3 (ipykernel)",
   "language": "python",
   "name": "python3"
  },
  "language_info": {
   "codemirror_mode": {
    "name": "ipython",
    "version": 3
   },
   "file_extension": ".py",
   "mimetype": "text/x-python",
   "name": "python",
   "nbconvert_exporter": "python",
   "pygments_lexer": "ipython3",
   "version": "3.10.8"
  }
 },
 "nbformat": 4,
 "nbformat_minor": 5
}
