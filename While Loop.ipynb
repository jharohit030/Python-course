{
 "cells": [
  {
   "cell_type": "code",
   "execution_count": 2,
   "id": "252fb605",
   "metadata": {},
   "outputs": [
    {
     "name": "stdout",
     "output_type": "stream",
     "text": [
      "1\n",
      "2\n",
      "3\n",
      "4\n",
      "5\n",
      "6\n",
      "7\n",
      "8\n",
      "9\n",
      "10\n"
     ]
    }
   ],
   "source": [
    "a = 1\n",
    "\n",
    "while a <= 10:\n",
    "    print(a)\n",
    "    a = a+ 1"
   ]
  },
  {
   "cell_type": "code",
   "execution_count": 6,
   "id": "4c860c0a",
   "metadata": {},
   "outputs": [
    {
     "name": "stdout",
     "output_type": "stream",
     "text": [
      "Enter your input: 25\n",
      "325\n"
     ]
    }
   ],
   "source": [
    "#sum up the number till some point\n",
    "\n",
    "n = int(input(\"Enter your input: \"))\n",
    "starting_point = 0\n",
    "counter = 1\n",
    "while counter <= n:\n",
    "    starting_point += counter\n",
    "    counter = counter +1\n",
    "print(starting_point)"
   ]
  },
  {
   "cell_type": "code",
   "execution_count": 8,
   "id": "b99adbb9",
   "metadata": {},
   "outputs": [
    {
     "name": "stdout",
     "output_type": "stream",
     "text": [
      "Enter your number: 5\n",
      "120\n"
     ]
    }
   ],
   "source": [
    "#factorial of a number\n",
    "\n",
    "user_inp = int(input(\"Enter your number: \"))\n",
    "factorial = 1\n",
    "while user_inp > 0:\n",
    "    factorial = factorial * user_inp\n",
    "    user_inp = user_inp -1\n",
    "print(factorial)"
   ]
  },
  {
   "cell_type": "code",
   "execution_count": 9,
   "id": "03f97523",
   "metadata": {},
   "outputs": [
    {
     "name": "stdout",
     "output_type": "stream",
     "text": [
      "Enter the number: 10\n",
      "0\n",
      "1\n",
      "1\n",
      "2\n",
      "3\n",
      "5\n",
      "8\n",
      "13\n",
      "21\n",
      "34\n"
     ]
    }
   ],
   "source": [
    "#Fibnonacci series\n",
    "\n",
    "inp = int(input(\"Enter the number: \"))\n",
    "first = 0\n",
    "second = 1\n",
    "count = 0\n",
    "while count < inp:\n",
    "    print(first)\n",
    "    third = first + second\n",
    "    first = second\n",
    "    second = third\n",
    "    count = count + 1\n",
    "    \n",
    "    "
   ]
  },
  {
   "cell_type": "code",
   "execution_count": 10,
   "id": "3161a1d6",
   "metadata": {},
   "outputs": [
    {
     "data": {
      "text/plain": [
       "'tihoR'"
      ]
     },
     "execution_count": 10,
     "metadata": {},
     "output_type": "execute_result"
    }
   ],
   "source": [
    "s = \"Rohit\"\n",
    "s[:: -1]"
   ]
  },
  {
   "cell_type": "code",
   "execution_count": 1,
   "id": "5944854e",
   "metadata": {},
   "outputs": [
    {
     "name": "stdout",
     "output_type": "stream",
     "text": [
      "Enter your string for reversal: Rohit\n",
      "tihoR\n"
     ]
    }
   ],
   "source": [
    "#reverse a string\n",
    "\n",
    "word = input(\"Enter your string for reversal: \")\n",
    "reverse = \"\"\n",
    "length = len(word)\n",
    "while length > 0:\n",
    "    reverse = reverse + word[length-1]\n",
    "    length = length -1\n",
    "print(reverse)"
   ]
  },
  {
   "cell_type": "code",
   "execution_count": 4,
   "id": "791676b6",
   "metadata": {},
   "outputs": [
    {
     "name": "stdout",
     "output_type": "stream",
     "text": [
      "Enter your number: 20\n",
      "20 *  1 = 20\n",
      "20 *  2 = 40\n",
      "20 *  3 = 60\n",
      "20 *  4 = 80\n",
      "20 *  5 = 100\n",
      "20 *  6 = 120\n",
      "20 *  7 = 140\n",
      "20 *  8 = 160\n",
      "20 *  9 = 180\n",
      "20 *  10 = 200\n",
      "20 *  11 = 220\n",
      "20 *  12 = 240\n",
      "20 *  13 = 260\n",
      "20 *  14 = 280\n",
      "20 *  15 = 300\n",
      "20 *  16 = 320\n",
      "20 *  17 = 340\n",
      "20 *  18 = 360\n",
      "20 *  19 = 380\n",
      "20 *  20 = 400\n"
     ]
    }
   ],
   "source": [
    "#print tables of number\n",
    "\n",
    "num = int(input(\"Enter your number: \"))\n",
    "count = 1\n",
    "\n",
    "while count <= num:\n",
    "    res = num * count\n",
    "    print(num, \"* \" , count , \"=\" ,res)\n",
    "    count = count + 1\n",
    "\n",
    "    \n",
    "\n",
    "    "
   ]
  },
  {
   "cell_type": "code",
   "execution_count": 1,
   "id": "e098e2e1",
   "metadata": {},
   "outputs": [
    {
     "name": "stdout",
     "output_type": "stream",
     "text": [
      "1\n",
      "2\n",
      "3\n",
      "4\n",
      "this will be executed once your while will complete it successful\n"
     ]
    }
   ],
   "source": [
    "n= 5\n",
    "i = 1\n",
    "while i<n:\n",
    "    \n",
    "    #print(i)\n",
    "    #if i==3: \n",
    "    print(i)\n",
    "    i = i+1\n",
    "else:\n",
    "    print(\"this will be executed once your while will complete it successful\")"
   ]
  },
  {
   "cell_type": "code",
   "execution_count": null,
   "id": "7b00a08e",
   "metadata": {},
   "outputs": [],
   "source": []
  }
 ],
 "metadata": {
  "kernelspec": {
   "display_name": "Python 3 (ipykernel)",
   "language": "python",
   "name": "python3"
  },
  "language_info": {
   "codemirror_mode": {
    "name": "ipython",
    "version": 3
   },
   "file_extension": ".py",
   "mimetype": "text/x-python",
   "name": "python",
   "nbconvert_exporter": "python",
   "pygments_lexer": "ipython3",
   "version": "3.9.13"
  }
 },
 "nbformat": 4,
 "nbformat_minor": 5
}
